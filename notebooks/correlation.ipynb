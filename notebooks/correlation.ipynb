{
 "cells": [
  {
   "cell_type": "code",
   "execution_count": 17,
   "metadata": {},
   "outputs": [
    {
     "name": "stdout",
     "output_type": "stream",
     "text": [
      "INFO: Pandarallel will run on 10 workers.\n",
      "INFO: Pandarallel will use standard multiprocessing data transfer (pipe) to transfer data between the main process and workers.\n"
     ]
    }
   ],
   "source": [
    "from sys import path \n",
    "path.append(\"../\")\n",
    "\n",
    "from src.data.smile import SmileData\n",
    "from src.utils.inputation import filling_mean\n",
    "from numpy import ndarray\n",
    "\n",
    "from pandas import IndexSlice, concat, DataFrame, MultiIndex\n",
    "from numpy import swapaxes, arange\n",
    "# from src.utils import slice_user_over_experiment_time\n",
    "# from src.utils.correlation import calculate_correlation_coefficients\n",
    "# from scipy.stats import pearsonr, spearmanr, kendalltau\n",
    "# from time import time\n",
    "# from tqdm.notebook import tqdm\n",
    "# from seaborn import heatmap\n",
    "from matplotlib.pyplot import figure, savefig, show, title, xlabel, legend\n",
    "# from numpy import array, asarray, ndarray, mean\n",
    "# from copy import deepcopy\n",
    "\n",
    "from pandarallel import pandarallel\n",
    "pandarallel.initialize()"
   ]
  },
  {
   "cell_type": "code",
   "execution_count": 2,
   "metadata": {},
   "outputs": [],
   "source": [
    "ecg_features_names: list[str] = [\n",
    "    \"mean heart rate\",\n",
    "    \"std HRV R-R\",\n",
    "    \"RMSE R-R diff\",\n",
    "    \"low freq\",\n",
    "    \"high freq\",\n",
    "    \"ratio low/high freq\",\n",
    "    \"ratio very low/low freq\",\n",
    "    \"HR cycle\",\n",
    "]\n",
    "\n",
    "gsr_features_names: list[str] = [\n",
    "    \"GSR avg\",\n",
    "    \"signal power GSR phasic\",\n",
    "    \"GSR response rate\",\n",
    "    \"GSR second difference\",\n",
    "    \"GSR #responses\",\n",
    "    \"GSR magnitude\",\n",
    "    \"GSR duration\",\n",
    "    \"GSR area\",]\n",
    "\n",
    "st_features_names: list[str] = [\n",
    "    \"avg ST\",\n",
    "    \"std ST\",\n",
    "    \"slope fitted ST\",\n",
    "    \"median ST\"]\n",
    "\n",
    "features: list[tuple[str, str]] = [\n",
    "            (\"hand_crafted_features\", \"ECG_features\"),\n",
    "            (\"hand_crafted_features\", \"GSR_features\"),\n",
    "            (\"hand_crafted_features\", \"ST_features\"),\n",
    "            (\"deep_features\", \"ECG_features_C\"),\n",
    "            (\"deep_features\", \"ECG_features_T\"),\n",
    "        ]"
   ]
  },
  {
   "cell_type": "markdown",
   "metadata": {},
   "source": [
    "# Introduction\n",
    "\n",
    "While the objective of the challenge is to create an ML-based system to recognize stress from the data given, which are timeseries of extracted features, we believe it is also important to perform some preliminary analysis. \n",
    "\n",
    "Here, some basic correlations are explored. The idea is to see:\n",
    "1. Which feature, especially the **hand crafted** ones, is more correlated with the stress label. \n",
    "2. Which times are more correlated w/ the stress label.\n",
    "This analysis can be performed either with the separate or the aggregated labels, even if I do not expect to see many differences."
   ]
  },
  {
   "cell_type": "markdown",
   "metadata": {},
   "source": [
    "# Preliminary Analysis"
   ]
  },
  {
   "cell_type": "markdown",
   "metadata": {},
   "source": [
    "Here we explore a little the data. The idea is to see if there are some problems or interesting patterns, aside from the 111 NaN points which have been imputed."
   ]
  },
  {
   "cell_type": "code",
   "execution_count": 8,
   "metadata": {},
   "outputs": [],
   "source": [
    "path_to_data: str = \"../data.nosync/dataset_smile_challenge.npy\"\n",
    "data = SmileData(path_to_data=path_to_data, test=False)\n",
    "data.separate_skin_temperature()\n",
    "data.remove_flatlines()\n",
    "hand_crafted_data: ndarray = data.get_handcrafted_features(masking=False, joined=True)\n",
    "deep_data: ndarray = data.get_deep_features(masking=False, joined=True)\n",
    "labels: ndarray = data.get_labels()"
   ]
  },
  {
   "cell_type": "code",
   "execution_count": 9,
   "metadata": {},
   "outputs": [
    {
     "name": "stdout",
     "output_type": "stream",
     "text": [
      "(1525, 60, 20)\n",
      "(1525, 60, 320)\n",
      "(1525,)\n"
     ]
    }
   ],
   "source": [
    "print(hand_crafted_data.shape)\n",
    "print(deep_data.shape)\n",
    "print(labels.shape)"
   ]
  },
  {
   "cell_type": "markdown",
   "metadata": {},
   "source": [
    "In order to be able to have a nice plot, the 3-dimensional data has to be mapped to a multi-indexed 2-dimensional pandas dataframe."
   ]
  },
  {
   "cell_type": "code",
   "execution_count": 4,
   "metadata": {},
   "outputs": [],
   "source": [
    "from pandas import MultiIndex\n",
    "hand_crafted_data = swapaxes(hand_crafted_data, 1, 2)\n",
    "hand_crafted_data = hand_crafted_data.reshape(hand_crafted_data.shape[0],-1)\n",
    "hand_crafted_data: DataFrame = DataFrame(hand_crafted_data)\n",
    "\n",
    "all_features_names: list[str] = ecg_features_names + gsr_features_names + st_features_names\n",
    "multi_index = MultiIndex.from_tuples([(feat, i) for feat in all_features_names for i in range(60)], names=['feature', 'time'])\n",
    "hand_crafted_data.columns = multi_index\n",
    "hand_crafted_data.index.name = 'user'\n"
   ]
  },
  {
   "cell_type": "code",
   "execution_count": 5,
   "metadata": {},
   "outputs": [
    {
     "data": {
      "text/html": [
       "<div>\n",
       "<style scoped>\n",
       "    .dataframe tbody tr th:only-of-type {\n",
       "        vertical-align: middle;\n",
       "    }\n",
       "\n",
       "    .dataframe tbody tr th {\n",
       "        vertical-align: top;\n",
       "    }\n",
       "\n",
       "    .dataframe thead th {\n",
       "        text-align: right;\n",
       "    }\n",
       "</style>\n",
       "<table border=\"1\" class=\"dataframe\">\n",
       "  <thead>\n",
       "    <tr style=\"text-align: right;\">\n",
       "      <th></th>\n",
       "      <th></th>\n",
       "      <th>count</th>\n",
       "      <th>mean</th>\n",
       "      <th>std</th>\n",
       "      <th>min</th>\n",
       "      <th>25%</th>\n",
       "      <th>50%</th>\n",
       "      <th>75%</th>\n",
       "      <th>max</th>\n",
       "    </tr>\n",
       "    <tr>\n",
       "      <th>feature</th>\n",
       "      <th>time</th>\n",
       "      <th></th>\n",
       "      <th></th>\n",
       "      <th></th>\n",
       "      <th></th>\n",
       "      <th></th>\n",
       "      <th></th>\n",
       "      <th></th>\n",
       "      <th></th>\n",
       "    </tr>\n",
       "  </thead>\n",
       "  <tbody>\n",
       "    <tr>\n",
       "      <th rowspan=\"5\" valign=\"top\">mean heart rate</th>\n",
       "      <th>0</th>\n",
       "      <td>2069.0</td>\n",
       "      <td>0.083775</td>\n",
       "      <td>0.085030</td>\n",
       "      <td>0.0</td>\n",
       "      <td>0.018208</td>\n",
       "      <td>0.069540</td>\n",
       "      <td>0.119214</td>\n",
       "      <td>0.754924</td>\n",
       "    </tr>\n",
       "    <tr>\n",
       "      <th>1</th>\n",
       "      <td>2070.0</td>\n",
       "      <td>0.082798</td>\n",
       "      <td>0.084576</td>\n",
       "      <td>0.0</td>\n",
       "      <td>0.018781</td>\n",
       "      <td>0.068060</td>\n",
       "      <td>0.118141</td>\n",
       "      <td>0.729275</td>\n",
       "    </tr>\n",
       "    <tr>\n",
       "      <th>2</th>\n",
       "      <td>2069.0</td>\n",
       "      <td>0.084018</td>\n",
       "      <td>0.084133</td>\n",
       "      <td>0.0</td>\n",
       "      <td>0.017414</td>\n",
       "      <td>0.068979</td>\n",
       "      <td>0.118880</td>\n",
       "      <td>0.618611</td>\n",
       "    </tr>\n",
       "    <tr>\n",
       "      <th>3</th>\n",
       "      <td>2070.0</td>\n",
       "      <td>0.085555</td>\n",
       "      <td>0.087133</td>\n",
       "      <td>0.0</td>\n",
       "      <td>0.017678</td>\n",
       "      <td>0.068314</td>\n",
       "      <td>0.120104</td>\n",
       "      <td>0.639849</td>\n",
       "    </tr>\n",
       "    <tr>\n",
       "      <th>4</th>\n",
       "      <td>2069.0</td>\n",
       "      <td>0.083464</td>\n",
       "      <td>0.083473</td>\n",
       "      <td>0.0</td>\n",
       "      <td>0.016498</td>\n",
       "      <td>0.068492</td>\n",
       "      <td>0.122262</td>\n",
       "      <td>0.762644</td>\n",
       "    </tr>\n",
       "    <tr>\n",
       "      <th>...</th>\n",
       "      <th>...</th>\n",
       "      <td>...</td>\n",
       "      <td>...</td>\n",
       "      <td>...</td>\n",
       "      <td>...</td>\n",
       "      <td>...</td>\n",
       "      <td>...</td>\n",
       "      <td>...</td>\n",
       "      <td>...</td>\n",
       "    </tr>\n",
       "    <tr>\n",
       "      <th rowspan=\"5\" valign=\"top\">median ST</th>\n",
       "      <th>55</th>\n",
       "      <td>2070.0</td>\n",
       "      <td>0.012402</td>\n",
       "      <td>0.033850</td>\n",
       "      <td>0.0</td>\n",
       "      <td>0.000282</td>\n",
       "      <td>0.000901</td>\n",
       "      <td>0.013892</td>\n",
       "      <td>0.696564</td>\n",
       "    </tr>\n",
       "    <tr>\n",
       "      <th>56</th>\n",
       "      <td>2070.0</td>\n",
       "      <td>0.012015</td>\n",
       "      <td>0.032322</td>\n",
       "      <td>0.0</td>\n",
       "      <td>0.000287</td>\n",
       "      <td>0.000889</td>\n",
       "      <td>0.013722</td>\n",
       "      <td>0.728351</td>\n",
       "    </tr>\n",
       "    <tr>\n",
       "      <th>57</th>\n",
       "      <td>2070.0</td>\n",
       "      <td>0.011969</td>\n",
       "      <td>0.030255</td>\n",
       "      <td>0.0</td>\n",
       "      <td>0.000298</td>\n",
       "      <td>0.000878</td>\n",
       "      <td>0.013914</td>\n",
       "      <td>0.601510</td>\n",
       "    </tr>\n",
       "    <tr>\n",
       "      <th>58</th>\n",
       "      <td>2070.0</td>\n",
       "      <td>0.012065</td>\n",
       "      <td>0.031072</td>\n",
       "      <td>0.0</td>\n",
       "      <td>0.000295</td>\n",
       "      <td>0.000887</td>\n",
       "      <td>0.014055</td>\n",
       "      <td>0.754429</td>\n",
       "    </tr>\n",
       "    <tr>\n",
       "      <th>59</th>\n",
       "      <td>2070.0</td>\n",
       "      <td>0.012851</td>\n",
       "      <td>0.039028</td>\n",
       "      <td>0.0</td>\n",
       "      <td>0.000301</td>\n",
       "      <td>0.000882</td>\n",
       "      <td>0.014107</td>\n",
       "      <td>0.921921</td>\n",
       "    </tr>\n",
       "  </tbody>\n",
       "</table>\n",
       "<p>1200 rows × 8 columns</p>\n",
       "</div>"
      ],
      "text/plain": [
       "                       count      mean       std  min       25%       50%  \\\n",
       "feature         time                                                        \n",
       "mean heart rate 0     2069.0  0.083775  0.085030  0.0  0.018208  0.069540   \n",
       "                1     2070.0  0.082798  0.084576  0.0  0.018781  0.068060   \n",
       "                2     2069.0  0.084018  0.084133  0.0  0.017414  0.068979   \n",
       "                3     2070.0  0.085555  0.087133  0.0  0.017678  0.068314   \n",
       "                4     2069.0  0.083464  0.083473  0.0  0.016498  0.068492   \n",
       "...                      ...       ...       ...  ...       ...       ...   \n",
       "median ST       55    2070.0  0.012402  0.033850  0.0  0.000282  0.000901   \n",
       "                56    2070.0  0.012015  0.032322  0.0  0.000287  0.000889   \n",
       "                57    2070.0  0.011969  0.030255  0.0  0.000298  0.000878   \n",
       "                58    2070.0  0.012065  0.031072  0.0  0.000295  0.000887   \n",
       "                59    2070.0  0.012851  0.039028  0.0  0.000301  0.000882   \n",
       "\n",
       "                           75%       max  \n",
       "feature         time                      \n",
       "mean heart rate 0     0.119214  0.754924  \n",
       "                1     0.118141  0.729275  \n",
       "                2     0.118880  0.618611  \n",
       "                3     0.120104  0.639849  \n",
       "                4     0.122262  0.762644  \n",
       "...                        ...       ...  \n",
       "median ST       55    0.013892  0.696564  \n",
       "                56    0.013722  0.728351  \n",
       "                57    0.013914  0.601510  \n",
       "                58    0.014055  0.754429  \n",
       "                59    0.014107  0.921921  \n",
       "\n",
       "[1200 rows x 8 columns]"
      ]
     },
     "execution_count": 5,
     "metadata": {},
     "output_type": "execute_result"
    }
   ],
   "source": [
    "hand_crafted_data.groupby(axis=1, level=1).describe()"
   ]
  },
  {
   "cell_type": "markdown",
   "metadata": {},
   "source": [
    "All of the features, it can be seen, are mostly in the range \\[0,1\\]: this is most likely because all of the features have been **normalized**."
   ]
  },
  {
   "cell_type": "markdown",
   "metadata": {},
   "source": [
    "However, there are some labels which have **flatlines**, here are some examples:"
   ]
  },
  {
   "cell_type": "code",
   "execution_count": 6,
   "metadata": {},
   "outputs": [
    {
     "data": {
      "image/png": "[encoded data removed]",
      "text/plain": [
       "<Figure size 432x288 with 1 Axes>"
      ]
     },
     "metadata": {
      "needs_background": "light"
     },
     "output_type": "display_data"
    }
   ],
   "source": [
    "hand_crafted_data.loc[0, IndexSlice['mean heart rate', :]].droplevel(level=0).plot(label='label 0')\n",
    "hand_crafted_data.loc[2000, IndexSlice['mean heart rate', :]].droplevel(level=0).plot(label='label 2000')\n",
    "hand_crafted_data.loc[1000, IndexSlice['mean heart rate', :]].droplevel(level=0).plot(label='label 1000')\n",
    "legend()\n",
    "title(\"Example Mean Heart Rate timeseries\")\n",
    "show()"
   ]
  },
  {
   "cell_type": "code",
   "execution_count": 7,
   "metadata": {},
   "outputs": [
    {
     "data": {
      "text/plain": [
       "feature\n",
       "GSR #responses             391\n",
       "GSR area                   391\n",
       "GSR avg                    253\n",
       "GSR duration               391\n",
       "GSR magnitude              253\n",
       "GSR response rate          391\n",
       "GSR second difference      419\n",
       "HR cycle                   227\n",
       "RMSE R-R diff              227\n",
       "avg ST                     253\n",
       "high freq                  227\n",
       "low freq                   227\n",
       "mean heart rate            299\n",
       "median ST                  253\n",
       "ratio low/high freq        227\n",
       "ratio very low/low freq    227\n",
       "signal power GSR phasic    253\n",
       "slope fitted ST            253\n",
       "std HRV R-R                227\n",
       "std ST                     254\n",
       "dtype: int64"
      ]
     },
     "execution_count": 7,
     "metadata": {},
     "output_type": "execute_result"
    }
   ],
   "source": [
    "def get_flatline_count(feature_df: DataFrame) -> int:\n",
    "    sum_of_val: DataFrame = feature_df.groupby(axis=0, level=0).apply(lambda x: sum(x.iloc[0, :]))\n",
    "    sum_of_val: int = sum_of_val.value_counts().loc[0]\n",
    "    return sum_of_val\n",
    "hand_crafted_data.groupby(axis=1, level=0).apply(get_flatline_count)"
   ]
  },
  {
   "cell_type": "markdown",
   "metadata": {},
   "source": [
    "As can be seen, for each feature around 10% of the data is made of **flatlines**. From exploring the data by hand, it is known how these values are indeed **non-overlapping**. As such, we try to see how many labels **do not** have any **flatlines**."
   ]
  },
  {
   "cell_type": "code",
   "execution_count": 8,
   "metadata": {},
   "outputs": [],
   "source": [
    "from numpy import nan, full as filled_array\n",
    "from pandas import Series\n",
    "\n",
    "\n",
    "def intermediate_apply(x: DataFrame) -> DataFrame:\n",
    "    return x.groupby(axis=1, level=0).apply(change_flatline_to_nan)\n",
    "\n",
    "\n",
    "def change_flatline_to_nan(timeseries_df: DataFrame) -> DataFrame:\n",
    "    if sum(timeseries_df.iloc[0, :]) == 0:\n",
    "        timeseries_df.iloc[0, :] = nan\n",
    "    return timeseries_df\n",
    "\n",
    "\n",
    "hand_crafted_data_w_nan: DataFrame = (\n",
    "    hand_crafted_data.groupby(axis=0, level=0)\n",
    "    .parallel_apply(intermediate_apply)\n",
    "    .droplevel(axis=0, level=1)\n",
    ")\n"
   ]
  },
  {
   "cell_type": "code",
   "execution_count": 9,
   "metadata": {},
   "outputs": [
    {
     "name": "stdout",
     "output_type": "stream",
     "text": [
      "Total number of samples: 2070\n",
      "Samples w/o flatlines: 1506\n",
      "Percentage w flatlines: 27.25%\n"
     ]
    }
   ],
   "source": [
    "n_good: int = len(hand_crafted_data_w_nan.dropna(how='any'))\n",
    "n_tot: int = len(hand_crafted_data_w_nan)\n",
    "print('Total number of samples: %i\\nSamples w/o flatlines: %i\\nPercentage w flatlines: %.2f%%' %(n_tot,n_good, (100-n_good/n_tot*100)))"
   ]
  },
  {
   "cell_type": "markdown",
   "metadata": {},
   "source": [
    "This is the number of rows without the flatlines: while much smaller than what we started with, it is something doable!\n",
    "\n",
    "**NB**: dato che sto considerando i dati \"sporchi\", ovvero con anche la presenza di NaN, viene eliminata qualche riga in più."
   ]
  },
  {
   "cell_type": "markdown",
   "metadata": {},
   "source": [
    "I have tested the Machine Learning models w/ and w/o the **flatlines** and there is no statistical difference between them. \n",
    "\n",
    "Indeed, the only noticible difference is a higher standard deviation in the \"smaller\" set, which is indeed expected, but that's only it: even the same models show a similar performance."
   ]
  },
  {
   "cell_type": "markdown",
   "metadata": {},
   "source": [
    "# Correlation"
   ]
  },
  {
   "cell_type": "markdown",
   "metadata": {},
   "source": [
    "## Separate/All"
   ]
  },
  {
   "cell_type": "markdown",
   "metadata": {},
   "source": [
    "First, we analyse the correlation coefficient (Pearson default, but can be changed w/ a simple variable) for **timestep & feature**. Later, we aggregate on either of the two.\n",
    "\n",
    "The analysis is performed only on the **train set** (since no labels on test set are given)."
   ]
  },
  {
   "cell_type": "code",
   "execution_count": 18,
   "metadata": {},
   "outputs": [],
   "source": [
    "path_to_data: str = \"../data.nosync/dataset_smile_challenge.npy\"\n",
    "data = SmileData(path_to_data=path_to_data, test=False)\n",
    "data.separate_skin_temperature()\n",
    "\n",
    "\n",
    "for feature_tuple in features:\n",
    "    data.fill_missing_values(\n",
    "        features=feature_tuple,\n",
    "        filling_method=filling_mean,\n",
    "    )\n",
    "\n",
    "\n",
    "data.remove_flatlines()\n",
    "hand_crafted_data: ndarray = data.get_handcrafted_features(masking=False, joined=True)\n",
    "deep_data: ndarray = data.get_deep_features(masking=False, joined=True)\n",
    "labels: ndarray = data.get_labels()\n"
   ]
  },
  {
   "cell_type": "code",
   "execution_count": 19,
   "metadata": {},
   "outputs": [],
   "source": [
    "from pandas import MultiIndex\n",
    "\n",
    "hand_crafted_data = swapaxes(hand_crafted_data, 1, 2)\n",
    "hand_crafted_data = hand_crafted_data.reshape(hand_crafted_data.shape[0], -1)\n",
    "hand_crafted_data: DataFrame = DataFrame(hand_crafted_data)\n",
    "\n",
    "all_features_names: list[str] = (\n",
    "    ecg_features_names + gsr_features_names + st_features_names\n",
    ")\n",
    "multi_index = MultiIndex.from_tuples(\n",
    "    [(feat, i) for feat in all_features_names for i in range(60)],\n",
    "    names=[\"feature\", \"time\"],\n",
    ")\n",
    "hand_crafted_data.columns = multi_index\n",
    "hand_crafted_data.index.name = \"user\"\n"
   ]
  },
  {
   "cell_type": "code",
   "execution_count": null,
   "metadata": {},
   "outputs": [],
   "source": []
  }
 ],
 "metadata": {
  "kernelspec": {
   "display_name": "Python 3.10.4 ('stress')",
   "language": "python",
   "name": "python3"
  },
  "language_info": {
   "codemirror_mode": {
    "name": "ipython",
    "version": 3
   },
   "file_extension": ".py",
   "mimetype": "text/x-python",
   "name": "python",
   "nbconvert_exporter": "python",
   "pygments_lexer": "ipython3",
   "version": "3.10.4"
  },
  "orig_nbformat": 4,
  "vscode": {
   "interpreter": {
    "hash": "643980dca58626c9db13de6fa762274e0ff1919d6fc081f47feb3d972ff3a549"
   }
  }
 },
 "nbformat": 4,
 "nbformat_minor": 2
}
