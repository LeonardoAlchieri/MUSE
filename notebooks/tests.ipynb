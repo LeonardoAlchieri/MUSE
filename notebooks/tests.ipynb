{
 "cells": [
  {
   "cell_type": "code",
   "execution_count": 1,
   "metadata": {},
   "outputs": [],
   "source": [
    "from sys import path\n",
    "path.append('../')"
   ]
  },
  {
   "cell_type": "code",
   "execution_count": 5,
   "metadata": {},
   "outputs": [],
   "source": [
    "data_path: str = \"../data.nosync/dataset_smile_challenge.npy\"\n",
    "# data_path: str = \"../data.nosync/dataset_smile_challenge_unravelled_train_cut10_stadd.npy\""
   ]
  },
  {
   "cell_type": "markdown",
   "metadata": {},
   "source": [
    "# Exploration"
   ]
  },
  {
   "cell_type": "code",
   "execution_count": 6,
   "metadata": {},
   "outputs": [],
   "source": [
    "from numpy import load, fromiter, ndarray\n",
    "from seaborn import countplot\n",
    "from matplotlib.pyplot import (\n",
    "    ylabel as set_ylabel,\n",
    "    xlabel as set_xlabel,\n",
    "    title as plot_title,\n",
    "    show as show_fig,\n",
    "    savefig\n",
    ")\n",
    "from src.utils.vizualizations import add_text_barplot"
   ]
  },
  {
   "cell_type": "code",
   "execution_count": 7,
   "metadata": {},
   "outputs": [],
   "source": [
    "data: dict = load(data_path, allow_pickle=True).item()"
   ]
  },
  {
   "cell_type": "code",
   "execution_count": 8,
   "metadata": {},
   "outputs": [
    {
     "ename": "KeyError",
     "evalue": "'train'",
     "output_type": "error",
     "traceback": [
      "\u001b[0;31m---------------------------------------------------------------------------\u001b[0m",
      "\u001b[0;31mKeyError\u001b[0m                                  Traceback (most recent call last)",
      "\u001b[1;32m/home/leonardo/Desktop/GIT/StressChallange/notebooks/tests.ipynb Cell 61'\u001b[0m in \u001b[0;36m<cell line: 1>\u001b[0;34m()\u001b[0m\n\u001b[0;32m----> <a href='vscode-notebook-cell://ssh-remote%2B7b22686f73744e616d65223a224c4142555349227d/home/leonardo/Desktop/GIT/StressChallange/notebooks/tests.ipynb#ch0000059vscode-remote?line=0'>1</a>\u001b[0m ax \u001b[39m=\u001b[39m countplot(x\u001b[39m=\u001b[39mdata[\u001b[39m'\u001b[39;49m\u001b[39mtrain\u001b[39;49m\u001b[39m'\u001b[39;49m][\u001b[39m'\u001b[39m\u001b[39mlabels\u001b[39m\u001b[39m'\u001b[39m])\n\u001b[1;32m      <a href='vscode-notebook-cell://ssh-remote%2B7b22686f73744e616d65223a224c4142555349227d/home/leonardo/Desktop/GIT/StressChallange/notebooks/tests.ipynb#ch0000059vscode-remote?line=1'>2</a>\u001b[0m set_ylabel(\u001b[39m\"\u001b[39m\u001b[39mCount\u001b[39m\u001b[39m\"\u001b[39m)\n\u001b[1;32m      <a href='vscode-notebook-cell://ssh-remote%2B7b22686f73744e616d65223a224c4142555349227d/home/leonardo/Desktop/GIT/StressChallange/notebooks/tests.ipynb#ch0000059vscode-remote?line=2'>3</a>\u001b[0m set_xlabel(\u001b[39m\"\u001b[39m\u001b[39mStress Level\u001b[39m\u001b[39m\"\u001b[39m)\n",
      "\u001b[0;31mKeyError\u001b[0m: 'train'"
     ]
    }
   ],
   "source": [
    "ax = countplot(x=data['train']['labels'])\n",
    "set_ylabel(\"Count\")\n",
    "set_xlabel(\"Stress Level\")\n",
    "plot_title(\"Distribution of Train Labels\")\n",
    "add_text_barplot(ax, data['train']['labels'], 0.3)\n",
    "savefig('../visualizations/distribution_train_labels.pdf')\n",
    "show_fig()"
   ]
  },
  {
   "cell_type": "code",
   "execution_count": null,
   "metadata": {},
   "outputs": [],
   "source": []
  },
  {
   "cell_type": "code",
   "execution_count": 6,
   "metadata": {},
   "outputs": [
    {
     "data": {
      "image/png": "[encoded data removed]",
      "text/plain": [
       "<Figure size 432x288 with 1 Axes>"
      ]
     },
     "metadata": {
      "needs_background": "light"
     },
     "output_type": "display_data"
    }
   ],
   "source": [
    "train_labels_aggregatored: ndarray = fromiter(\n",
    "    (0 if label == 0 else 1 for label in data[\"train\"][\"labels\"]), bool\n",
    ")\n",
    "\n",
    "\n",
    "ax = countplot(x=train_labels_aggregatored)\n",
    "set_ylabel(\"Count\")\n",
    "set_xlabel(\"Stressed?\")\n",
    "plot_title(\"Distribution of Train Labels (Aggregated)\")\n",
    "add_text_barplot(ax, train_labels_aggregatored, 0.1)\n",
    "\n",
    "savefig(\"../visualizations/distribution_train_labels_aggregated.pdf\")\n",
    "show_fig()\n"
   ]
  },
  {
   "cell_type": "markdown",
   "metadata": {},
   "source": [
    "From the distribution plots, a few simple conclusions can be made:\n",
    "1. If we use a **binary** classification, the classes are almost equally distributed: in this case, it probably is not necessary to apply any \"rebalancing\" or similar.\n",
    "2. If we use a **multiclass** classification, the classes are not equally distributed: in this case, it is important to figure out what to do with it."
   ]
  },
  {
   "cell_type": "code",
   "execution_count": 7,
   "metadata": {},
   "outputs": [
    {
     "data": {
      "text/markdown": [
       "Dimension of features in train set"
      ],
      "text/plain": [
       "<IPython.core.display.Markdown object>"
      ]
     },
     "metadata": {},
     "output_type": "display_data"
    },
    {
     "data": {
      "text/markdown": [
       "## deep_features"
      ],
      "text/plain": [
       "<IPython.core.display.Markdown object>"
      ]
     },
     "metadata": {},
     "output_type": "display_data"
    },
    {
     "data": {
      "text/markdown": [
       "\t\tECG_features_C: (2070, 60, 256)"
      ],
      "text/plain": [
       "<IPython.core.display.Markdown object>"
      ]
     },
     "metadata": {},
     "output_type": "display_data"
    },
    {
     "data": {
      "text/markdown": [
       "\t\tECG_features_T: (2070, 60, 64)"
      ],
      "text/plain": [
       "<IPython.core.display.Markdown object>"
      ]
     },
     "metadata": {},
     "output_type": "display_data"
    },
    {
     "data": {
      "text/markdown": [
       "\t\tmasking: (2070, 60)"
      ],
      "text/plain": [
       "<IPython.core.display.Markdown object>"
      ]
     },
     "metadata": {},
     "output_type": "display_data"
    },
    {
     "data": {
      "text/markdown": [
       "## hand_crafted_features"
      ],
      "text/plain": [
       "<IPython.core.display.Markdown object>"
      ]
     },
     "metadata": {},
     "output_type": "display_data"
    },
    {
     "data": {
      "text/markdown": [
       "\t\tECG_features: (2070, 60, 8)"
      ],
      "text/plain": [
       "<IPython.core.display.Markdown object>"
      ]
     },
     "metadata": {},
     "output_type": "display_data"
    },
    {
     "data": {
      "text/markdown": [
       "\t\tGSR_features: (2070, 60, 12)"
      ],
      "text/plain": [
       "<IPython.core.display.Markdown object>"
      ]
     },
     "metadata": {},
     "output_type": "display_data"
    },
    {
     "data": {
      "text/markdown": [
       "\t\tECG_masking: (2070, 60)"
      ],
      "text/plain": [
       "<IPython.core.display.Markdown object>"
      ]
     },
     "metadata": {},
     "output_type": "display_data"
    },
    {
     "data": {
      "text/markdown": [
       "\t\tGSR_masking: (2070, 60)"
      ],
      "text/plain": [
       "<IPython.core.display.Markdown object>"
      ]
     },
     "metadata": {},
     "output_type": "display_data"
    },
    {
     "data": {
      "text/markdown": [
       "## labels"
      ],
      "text/plain": [
       "<IPython.core.display.Markdown object>"
      ]
     },
     "metadata": {},
     "output_type": "display_data"
    },
    {
     "data": {
      "text/markdown": [
       "\t\t(2070,)"
      ],
      "text/plain": [
       "<IPython.core.display.Markdown object>"
      ]
     },
     "metadata": {},
     "output_type": "display_data"
    }
   ],
   "source": [
    "from IPython.display import display, Markdown as md\n",
    "\n",
    "display(md(\"Dimension of features in train set\"))\n",
    "for feature_class_keys in data['train'].keys():\n",
    "    display(md(f\"## {feature_class_keys}\"))    \n",
    "    if isinstance(data['train'][feature_class_keys], dict):\n",
    "        for feature_keys in data['train'][feature_class_keys].keys():\n",
    "            display(md(f\"\\t\\t{feature_keys}: {data['train'][feature_class_keys][feature_keys].shape}\"))\n",
    "    else:\n",
    "        display(md(f\"\\t\\t{data['train'][feature_class_keys].shape}\"))"
   ]
  },
  {
   "cell_type": "code",
   "execution_count": 19,
   "metadata": {},
   "outputs": [
    {
     "name": "stdout",
     "output_type": "stream",
     "text": [
      "272\n"
     ]
    }
   ],
   "source": [
    "import sys\n",
    "import numpy\n",
    "from numpy import sum\n",
    "numpy.set_printoptions(threshold=sys.maxsize)\n",
    "# print(data['train']['hand_crafted_features']['ECG_masking'])\n",
    "# print(sum(data['train']['hand_crafted_features']['ECG_masking'], axis=1))\n",
    "print(sum(sum(data['train']['hand_crafted_features'][ 'GSR_masking'], axis=1) < 60))"
   ]
  },
  {
   "cell_type": "markdown",
   "metadata": {},
   "source": [
    "# Missing Values"
   ]
  },
  {
   "cell_type": "markdown",
   "metadata": {},
   "source": [
    "Apparently, there are some missing values in the hand-crafter features. Here there is some exploration as to how big the problem is, what could be done and others."
   ]
  },
  {
   "cell_type": "code",
   "execution_count": 9,
   "metadata": {},
   "outputs": [
    {
     "data": {
      "text/markdown": [
       "Dimension of features in train set"
      ],
      "text/plain": [
       "<IPython.core.display.Markdown object>"
      ]
     },
     "metadata": {},
     "output_type": "display_data"
    },
    {
     "data": {
      "text/markdown": [
       "## deep_features"
      ],
      "text/plain": [
       "<IPython.core.display.Markdown object>"
      ]
     },
     "metadata": {},
     "output_type": "display_data"
    },
    {
     "data": {
      "text/markdown": [
       "\t\tECG_features_C: 0"
      ],
      "text/plain": [
       "<IPython.core.display.Markdown object>"
      ]
     },
     "metadata": {},
     "output_type": "display_data"
    },
    {
     "data": {
      "text/markdown": [
       "\t\tECG_features_T: 0"
      ],
      "text/plain": [
       "<IPython.core.display.Markdown object>"
      ]
     },
     "metadata": {},
     "output_type": "display_data"
    },
    {
     "data": {
      "text/markdown": [
       "\t\tmasking: 0"
      ],
      "text/plain": [
       "<IPython.core.display.Markdown object>"
      ]
     },
     "metadata": {},
     "output_type": "display_data"
    },
    {
     "data": {
      "text/markdown": [
       "## hand_crafted_features"
      ],
      "text/plain": [
       "<IPython.core.display.Markdown object>"
      ]
     },
     "metadata": {},
     "output_type": "display_data"
    },
    {
     "data": {
      "text/markdown": [
       "\t\tECG_features: 0"
      ],
      "text/plain": [
       "<IPython.core.display.Markdown object>"
      ]
     },
     "metadata": {},
     "output_type": "display_data"
    },
    {
     "data": {
      "text/markdown": [
       "\t\tGSR_features: 0"
      ],
      "text/plain": [
       "<IPython.core.display.Markdown object>"
      ]
     },
     "metadata": {},
     "output_type": "display_data"
    },
    {
     "data": {
      "text/markdown": [
       "\t\tECG_masking: 0"
      ],
      "text/plain": [
       "<IPython.core.display.Markdown object>"
      ]
     },
     "metadata": {},
     "output_type": "display_data"
    },
    {
     "data": {
      "text/markdown": [
       "\t\tGSR_masking: 0"
      ],
      "text/plain": [
       "<IPython.core.display.Markdown object>"
      ]
     },
     "metadata": {},
     "output_type": "display_data"
    },
    {
     "data": {
      "text/markdown": [
       "\t\tST_features: 0"
      ],
      "text/plain": [
       "<IPython.core.display.Markdown object>"
      ]
     },
     "metadata": {},
     "output_type": "display_data"
    },
    {
     "data": {
      "text/markdown": [
       "## labels"
      ],
      "text/plain": [
       "<IPython.core.display.Markdown object>"
      ]
     },
     "metadata": {},
     "output_type": "display_data"
    },
    {
     "data": {
      "text/markdown": [
       "\t\t0"
      ],
      "text/plain": [
       "<IPython.core.display.Markdown object>"
      ]
     },
     "metadata": {},
     "output_type": "display_data"
    }
   ],
   "source": [
    "from IPython.display import display, Markdown as md\n",
    "from numpy import isnan\n",
    "\n",
    "display(md(\"Dimension of features in train set\"))\n",
    "for feature_class_keys in data['train'].keys():\n",
    "    display(md(f\"## {feature_class_keys}\"))    \n",
    "    if isinstance(data['train'][feature_class_keys], dict):\n",
    "        for feature_keys in data['train'][feature_class_keys].keys():\n",
    "            try:\n",
    "                display(md(f\"\\t\\t{feature_keys}: {sum(sum(sum(isnan(data['train'][feature_class_keys][feature_keys]))))}\"))\n",
    "            except Exception as e:\n",
    "                display(md(f\"\\t\\t{feature_keys}: {(sum(sum(isnan(data['train'][feature_class_keys][feature_keys]))))}\"))\n",
    "    else:\n",
    "        display(md(f\"\\t\\t{(sum(isnan(data['train'][feature_class_keys])))}\"))"
   ]
  },
  {
   "cell_type": "markdown",
   "metadata": {},
   "source": [
    "There are 111 values in the ECG features which are NaN. As such, a more thorough investigation of them shall be performed."
   ]
  },
  {
   "cell_type": "code",
   "execution_count": 49,
   "metadata": {},
   "outputs": [
    {
     "data": {
      "text/markdown": [
       "### ECG features w/ NaN"
      ],
      "text/plain": [
       "<IPython.core.display.Markdown object>"
      ]
     },
     "metadata": {},
     "output_type": "display_data"
    },
    {
     "name": "stdout",
     "output_type": "stream",
     "text": [
      "-- mean heart rate\n",
      "-- low freq\n",
      "-- ratio low/high freq\n",
      "-- HR cycle\n"
     ]
    }
   ],
   "source": [
    "from numpy import sum as ndarray_sum, isnan, nonzero, array\n",
    "\n",
    "data_w_nan: ndarray = data[\"train\"][\"hand_crafted_features\"][\"ECG_features\"]\n",
    "ecg_features_names: list[str] = [\n",
    "    \"mean heart rate\",\n",
    "    \"std HRV R-R\",\n",
    "    \"RMSE R-R diff\",\n",
    "    \"low freq\",\n",
    "    \"high freq\",\n",
    "    \"ratio low/high freq\",\n",
    "    \"ratio very low/low freq\",\n",
    "    \"HR cycle\",\n",
    "]\n",
    "ecg_features_names: ndarray = array(ecg_features_names)\n",
    "display(md(\"### ECG features w/ NaN\"))\n",
    "nan_col_idx: tuple[ndarray, None] = nonzero(ndarray_sum(ndarray_sum(isnan(data_w_nan), axis=1), axis=0))\n",
    "for el in ecg_features_names[nan_col_idx]:\n",
    "    print(f'-- {el}')"
   ]
  },
  {
   "cell_type": "markdown",
   "metadata": {},
   "source": [
    "The NaN values are not present in all of the features, but only on the indicated ones. As such, let's see more in detail."
   ]
  },
  {
   "cell_type": "code",
   "execution_count": 55,
   "metadata": {},
   "outputs": [
    {
     "name": "stdout",
     "output_type": "stream",
     "text": [
      "[1 0 1 0 1 1 1 0 1 0 0 0 0 0 1 0 1 0 0 0 0 0 1 1 1 1 1 1 1 2 2 0 1 0 0 0 0\n",
      " 0 0 0 0 0 0 0 0 1 2 1 3 0 0 0 1 0 0 1 1 1 0 0]\n",
      "[0 0 0 0 0 0 0 0 0 0 0 0 0 0 1 0 1 0 0 0 0 0 0 1 0 0 1 1 1 1 1 0 0 0 0 0 0\n",
      " 0 0 0 0 0 0 1 0 1 2 0 1 0 0 0 1 0 0 1 1 0 0 1]\n",
      "[2 3 0 0 3 1 1 0 0 0 0 0 0 1 0 0 0 0 0 1 1 0 0 0 0 0 0 1 0 0 0 0 0 0 0 2 0\n",
      " 0 0 0 1 0 0 0 0 0 0 1 1 1 2 1 1 2 2 1 1 4 2 2]\n",
      "[0 0 0 0 1 1 1 0 1 0 0 0 0 0 1 0 1 0 0 0 0 0 0 1 1 1 1 1 1 1 1 0 0 0 0 0 0\n",
      " 0 0 0 0 0 0 1 0 1 2 1 1 0 0 0 1 0 0 1 1 1 0 1]\n"
     ]
    },
    {
     "data": {
      "image/png": "[encoded data removed]",
      "text/plain": [
       "<Figure size 432x288 with 1 Axes>"
      ]
     },
     "metadata": {
      "needs_background": "light"
     },
     "output_type": "display_data"
    }
   ],
   "source": [
    "from matplotlib.pyplot import plot, show, legend, title, xlabel, ylabel\n",
    "\n",
    "if len(nan_col_idx) == 1:\n",
    "    nan_col_idx: ndarray = nan_col_idx[0]\n",
    "else:\n",
    "    pass\n",
    "for feat in nan_col_idx:\n",
    "    missing_timestamps: ndarray = ndarray_sum(isnan(data_w_nan[:,:,feat]), axis=0)\n",
    "    print(missing_timestamps)\n",
    "    plot(missing_timestamps, label=ecg_features_names[feat])\n",
    "legend()\n",
    "title(\"Distribution of NaN values along the timeline\\n(for the affected features)\")\n",
    "xlabel(\"Timestamps\")\n",
    "ylabel(\"Number of NaN values\")\n",
    "show()"
   ]
  },
  {
   "cell_type": "markdown",
   "metadata": {},
   "source": [
    "The final step is to see which users have these NaN. Indeed, the values are not a lot, and as such it may belong to just a small class of users. What to do with them, or with these features, is something important to be discussed."
   ]
  },
  {
   "cell_type": "code",
   "execution_count": 58,
   "metadata": {},
   "outputs": [
    {
     "data": {
      "text/plain": [
       "(2070, 60, 8)"
      ]
     },
     "execution_count": 58,
     "metadata": {},
     "output_type": "execute_result"
    }
   ],
   "source": [
    "isnan(data_w_nan).shape"
   ]
  },
  {
   "cell_type": "code",
   "execution_count": 59,
   "metadata": {},
   "outputs": [],
   "source": [
    "nan_user_idx: tuple[ndarray, None] = nonzero(ndarray_sum(ndarray_sum(isnan(data_w_nan), axis=1), axis=1))"
   ]
  },
  {
   "cell_type": "code",
   "execution_count": 68,
   "metadata": {},
   "outputs": [
    {
     "name": "stdout",
     "output_type": "stream",
     "text": [
      "436 [1 0 0 0 0 0 0 0]\n",
      "592 [2 0 0 2 0 0 0 2]\n",
      "1853 [0 0 0 0 0 2 0 0]\n",
      "1855 [0 0 0 0 0 2 0 0]\n",
      "1856 [1 0 0 0 0 0 0 0]\n",
      "1857 [1 0 0 0 0 0 0 0]\n",
      "1890 [0 0 0 0 0 1 0 0]\n",
      "1901 [3 0 0 2 0 0 0 3]\n",
      "1932 [13  0  0  7  0 11  0 13]\n",
      "1934 [0 0 0 0 0 1 0 0]\n",
      "1938 [1 0 0 1 0 0 0 1]\n",
      "1941 [0 0 0 0 0 1 0 0]\n",
      "1942 [0 0 0 0 0 1 0 0]\n",
      "1943 [0 0 0 0 0 1 0 0]\n",
      "1944 [0 0 0 0 0 1 0 0]\n",
      "1945 [0 0 0 0 0 1 0 0]\n",
      "1947 [0 0 0 0 0 1 0 0]\n",
      "1949 [0 0 0 0 0 3 0 0]\n",
      "1953 [1 0 0 1 0 1 0 1]\n",
      "1971 [1 0 0 0 0 1 0 1]\n",
      "2002 [1 0 0 0 0 1 0 0]\n",
      "2003 [3 0 0 1 0 0 0 1]\n",
      "2004 [1 0 0 1 0 2 0 1]\n",
      "2006 [0 0 0 0 0 1 0 0]\n",
      "2008 [1 0 0 1 0 3 0 1]\n",
      "2012 [1 0 0 1 0 0 0 1]\n",
      "2014 [0 0 0 0 0 1 0 0]\n",
      "2015 [0 0 0 0 0 1 0 0]\n",
      "2025 [0 0 0 0 0 1 0 0]\n"
     ]
    },
    {
     "data": {
      "image/png": "[encoded data removed]",
      "text/plain": [
       "<Figure size 720x720 with 1 Axes>"
      ]
     },
     "metadata": {
      "needs_background": "light"
     },
     "output_type": "display_data"
    }
   ],
   "source": [
    "from matplotlib.pyplot import plot, show, legend, title, xlabel, ylabel, figure\n",
    "\n",
    "figure(figsize=(10, 10))\n",
    "\n",
    "if len(nan_user_idx) == 1:\n",
    "    nan_user_idx: ndarray = nan_user_idx[0]\n",
    "else:\n",
    "    pass\n",
    "for user in nan_user_idx:\n",
    "    missing_timestamps: ndarray = ndarray_sum(isnan(data_w_nan[user,:,:]), axis=0)\n",
    "    print(user, missing_timestamps)\n",
    "    plot(missing_timestamps, label=user)\n",
    "legend()\n",
    "title(\"Distribution of NaN values along the timeline\\n(for the affected users)\")\n",
    "xlabel(\"Timestamps\")\n",
    "ylabel(\"Number of NaN values\")\n",
    "show()"
   ]
  },
  {
   "cell_type": "markdown",
   "metadata": {},
   "source": [
    "Most users have a very limited amount of NaNs, e.g. 2 or 3. On the other hand, user 1932 has a larger amount, in the range of 20. As such, it could be considered worthy to investigate weather to exclude this user from the analysis. \n",
    "\n",
    "On another note, it is important to consider how to deal with missing values. Since we have identified the presence of the problem, and can confirm that the fact that it is not widespread, we should consider possible solutions:\n",
    "1. Remove the users with missing values\n",
    "2. Remove the features with missing values\n",
    "3. Input missing values w/ various techniques\n",
    "    1. Simple rule-based. e.g. average\n",
    "    2. ML-based -> much more complicated, since there is also need for training!\n",
    "4. Others?"
   ]
  },
  {
   "cell_type": "markdown",
   "metadata": {},
   "source": [
    "# Questions\n",
    "\n",
    "We have a set of questions to pose to the challange organizers, which are listed here."
   ]
  },
  {
   "cell_type": "markdown",
   "metadata": {},
   "source": [
    "* What the \"masking\" features that are present in the dataset? \n",
    "* In the website, only 8 GSR features are described: however, the challange has 12. What are these?\n",
    "* Is it possible to know which features are which? Indeed, are they ordered as described on the website? (Obviously for the hand-crafter features, since for the others it does not make any sense)"
   ]
  },
  {
   "cell_type": "markdown",
   "metadata": {},
   "source": [
    "# Simple ML-models"
   ]
  },
  {
   "cell_type": "markdown",
   "metadata": {},
   "source": [
    "Concatenation techniques for traditional machine learning: for each label, we have (N, 60,X). We can do:\n",
    "1. Concatenate; so we have $(N, 60 \\times X)$\n",
    "2. Aggregate (with average), so we have $(N, 12)$\n",
    "3. Give to each minute the label, so we have now $(N\\times 60, 12)$"
   ]
  },
  {
   "cell_type": "markdown",
   "metadata": {},
   "source": [
    "# Stuff to do"
   ]
  },
  {
   "cell_type": "markdown",
   "metadata": {},
   "source": [
    "1. Feature extraction\n",
    "2. Try combinations of sensors (but keep hand and deep separated)\n",
    "3. Try different ML-models\n",
    "4. Maybe put some undersampling or oversampling (`smote` for oversampling and `rus` for undersampling)"
   ]
  },
  {
   "cell_type": "markdown",
   "metadata": {},
   "source": []
  },
  {
   "cell_type": "code",
   "execution_count": null,
   "metadata": {},
   "outputs": [],
   "source": []
  },
  {
   "cell_type": "code",
   "execution_count": null,
   "metadata": {},
   "outputs": [],
   "source": []
  },
  {
   "cell_type": "code",
   "execution_count": 6,
   "metadata": {},
   "outputs": [],
   "source": [
    "test = data['train']['hand_crafted_features']['ECG_features']"
   ]
  },
  {
   "cell_type": "code",
   "execution_count": 7,
   "metadata": {},
   "outputs": [],
   "source": [
    "from numpy import apply_along_axis, ndarray, nanmean, nan_to_num, apply_over_axes\n",
    "from numpy_indexed import group_by\n",
    "\n",
    "def fill_mean(arr: ndarray) -> ndarray:\n",
    "    mean: ndarray = nanmean(arr)\n",
    "    return nan_to_num(arr, nan=mean)\n",
    "\n",
    "\n",
    "for user in range(test.shape[0]):\n",
    "    for feat in range(test.shape[2]):\n",
    "        test[user,:,feat] = fill_mean(test[user,:,feat])"
   ]
  },
  {
   "cell_type": "code",
   "execution_count": 38,
   "metadata": {},
   "outputs": [],
   "source": [
    "from numpy import array, nan\n",
    "\n",
    "a = array([nan,3,4,4,3,nan, 5])"
   ]
  },
  {
   "cell_type": "code",
   "execution_count": 35,
   "metadata": {},
   "outputs": [],
   "source": [
    "from numpy import isnan, where, fromiter\n",
    "from scipy.stats import mode\n",
    "# ffill along axis 1, as provided in the answer by Divakar\n",
    "def ffill(arr):\n",
    "    mask = isnan(arr)\n",
    "    idxs = array(where(mask))[0]\n",
    "    for idx in idxs:\n",
    "        arr[idx] = arr[idx-1] if idx > 0 else nanmean(arr)\n",
    "    return arr\n",
    "\n",
    "def filling_mode(arr: ndarray) -> ndarray:\n",
    "    return nan_to_num(arr, nan=mode(arr)[0][0])"
   ]
  },
  {
   "cell_type": "code",
   "execution_count": 43,
   "metadata": {},
   "outputs": [
    {
     "data": {
      "text/plain": [
       "3.0"
      ]
     },
     "execution_count": 43,
     "metadata": {},
     "output_type": "execute_result"
    }
   ],
   "source": [
    "mode(a)[0][0]"
   ]
  },
  {
   "cell_type": "code",
   "execution_count": null,
   "metadata": {},
   "outputs": [],
   "source": []
  },
  {
   "cell_type": "markdown",
   "metadata": {},
   "source": [
    "# Custom Cross Val"
   ]
  },
  {
   "cell_type": "code",
   "execution_count": 1,
   "metadata": {},
   "outputs": [],
   "source": [
    "import numpy as np"
   ]
  },
  {
   "cell_type": "code",
   "execution_count": 47,
   "metadata": {},
   "outputs": [],
   "source": [
    "# this array represent the original 2070 labels\n",
    "idx_arr = np.arange(0, 2070)"
   ]
  },
  {
   "cell_type": "markdown",
   "metadata": {},
   "source": [
    "Since I have expanded the labels from 2070 to $T\\times 2070$, where $T$ is the timestap considered, we have to make a new \"array index\".."
   ]
  },
  {
   "cell_type": "code",
   "execution_count": 39,
   "metadata": {},
   "outputs": [],
   "source": [
    "# consider here T = 60\n",
    "idx_arr = (idx_arr +1) * 60"
   ]
  },
  {
   "cell_type": "code",
   "execution_count": 42,
   "metadata": {},
   "outputs": [
    {
     "data": {
      "text/plain": [
       "array([     0,      1,      2, ..., 124197, 124198, 124199])"
      ]
     },
     "execution_count": 42,
     "metadata": {},
     "output_type": "execute_result"
    }
   ],
   "source": [
    "np.concatenate(list(np.arange(el-60, el) for el in idx_arr))"
   ]
  },
  {
   "cell_type": "code",
   "execution_count": 23,
   "metadata": {},
   "outputs": [],
   "source": [
    "data = np.load(\"../data.nosync/dataset_smile_challenge_unravelled_train.npy\", allow_pickle=True).item()"
   ]
  },
  {
   "cell_type": "code",
   "execution_count": 25,
   "metadata": {},
   "outputs": [
    {
     "data": {
      "text/plain": [
       "(124200, 256)"
      ]
     },
     "execution_count": 25,
     "metadata": {},
     "output_type": "execute_result"
    }
   ],
   "source": [
    "data['deep_features']['ECG_features_C'].shape"
   ]
  },
  {
   "cell_type": "code",
   "execution_count": 75,
   "metadata": {},
   "outputs": [],
   "source": [
    "# create here the folds\n",
    "from numpy import ndarray \n",
    "from warnings import warn\n",
    "\n",
    "def make_unravelled_idx(idx_arr: ndarray, t: int) -> ndarray:\n",
    "    idx_arr = (idx_arr +1) * t\n",
    "    return np.concatenate(list(np.arange(el-t, el) for el in idx_arr))\n",
    "\n",
    "num_folds: int = 10\n",
    "# this array represent the original 2070 labels\n",
    "idx_arr = np.arange(0, 2070)\n",
    "t: int = 60\n",
    "len_fold = len(idx_arr)//num_folds\n",
    "if len_fold * num_folds != len(idx_arr):\n",
    "    warn(f'The array length is not nicely dividible into folds of same length. Some data discarded.')\n",
    "    # TODO: add a way to handle this phenomenon\n",
    "\n",
    "\n",
    "separate_idx_arr = [idx_arr[i*len_fold:(i+1)*len_fold] for i in range(10)]\n",
    "\n",
    "cv: list[tuple[ndarray, ndarray]] = [(np.concatenate([make_unravelled_idx(separate_idx_arr[j], t=t)\n",
    "                                                    for j in range(len(separate_idx_arr)) \n",
    "                                                    if j != i]),\n",
    "                                        make_unravelled_idx(separate_idx_arr[i], t=t)) \n",
    "                                    for i in range(num_folds)]\n"
   ]
  },
  {
   "cell_type": "code",
   "execution_count": 76,
   "metadata": {},
   "outputs": [
    {
     "data": {
      "text/plain": [
       "124200"
      ]
     },
     "execution_count": 76,
     "metadata": {},
     "output_type": "execute_result"
    }
   ],
   "source": [
    "len(cv[1][0]) + len(cv[1][1])"
   ]
  },
  {
   "cell_type": "code",
   "execution_count": 98,
   "metadata": {},
   "outputs": [
    {
     "data": {
      "text/plain": [
       "12420.0"
      ]
     },
     "execution_count": 98,
     "metadata": {},
     "output_type": "execute_result"
    }
   ],
   "source": [
    "2070 * 60 / 10"
   ]
  },
  {
   "cell_type": "code",
   "execution_count": 137,
   "metadata": {},
   "outputs": [],
   "source": [
    "fake_y = np.random.randint(0, 2, size=2070)\n",
    "fake_y = np.repeat(fake_y, 60)"
   ]
  },
  {
   "cell_type": "code",
   "execution_count": 140,
   "metadata": {},
   "outputs": [
    {
     "data": {
      "text/plain": [
       "array([[0, 0, 0, ..., 0, 0, 0],\n",
       "       [0, 0, 0, ..., 0, 0, 0],\n",
       "       [0, 0, 0, ..., 0, 0, 0],\n",
       "       ...,\n",
       "       [1, 1, 1, ..., 1, 1, 1],\n",
       "       [1, 1, 1, ..., 1, 1, 1],\n",
       "       [0, 0, 0, ..., 0, 0, 0]])"
      ]
     },
     "execution_count": 140,
     "metadata": {},
     "output_type": "execute_result"
    }
   ],
   "source": [
    "for i in range()"
   ]
  },
  {
   "cell_type": "code",
   "execution_count": 128,
   "metadata": {},
   "outputs": [
    {
     "data": {
      "text/plain": [
       "array([1, 1, 1, 0, 1, 0, 0, 0, 0, 1, 1, 1, 0, 1, 1, 1, 0, 1, 0, 0, 0, 1,\n",
       "       0, 1, 1, 0, 1, 1, 1, 1, 0, 0, 0, 1, 1, 1, 0, 0, 0, 0, 1, 1, 1, 0,\n",
       "       1, 1, 1, 0, 0, 1, 1, 0, 1, 0, 0, 0, 0, 1, 0, 1, 0, 0, 1, 0, 1, 0,\n",
       "       0, 1, 1, 1, 0, 1, 1, 0, 0, 0, 1, 1, 1, 0, 0, 1, 1, 0, 1, 1, 1, 0,\n",
       "       1, 1, 0, 0, 1, 0, 0, 0, 1, 1, 0, 0, 0, 0, 0, 0, 0, 0, 1, 1, 1, 0,\n",
       "       1, 1, 1, 0, 0, 0, 0, 1, 0, 1, 1, 0, 0, 0, 1, 1, 1, 0, 1, 1, 1, 1,\n",
       "       1, 0, 0, 0, 1, 1, 1, 0, 1, 0, 1, 1, 1, 0, 0, 1, 1, 0, 0, 0, 0, 0,\n",
       "       1, 1, 0, 0, 1, 0, 1, 0, 0, 1, 1, 1, 0, 1, 1, 0, 0, 1, 0, 0, 0, 1,\n",
       "       1, 1, 1, 1, 0, 1, 0, 0, 0, 0, 0, 0, 1, 1, 0, 1, 0, 0, 0, 1, 1, 1,\n",
       "       1, 1, 1, 0, 0, 1, 0, 0, 1])"
      ]
     },
     "execution_count": 128,
     "metadata": {},
     "output_type": "execute_result"
    }
   ],
   "source": [
    "from scipy.stats import mode\n",
    "mode(fake_y.reshape(-1, 60), axis=1)[0].reshape(-1,)"
   ]
  },
  {
   "cell_type": "code",
   "execution_count": 117,
   "metadata": {},
   "outputs": [],
   "source": [
    "from scipy.stats import mode"
   ]
  },
  {
   "cell_type": "code",
   "execution_count": 2,
   "metadata": {},
   "outputs": [],
   "source": [
    "import numpy as np\n",
    "import matplotlib.pyplot as plt\n",
    "\n",
    "from scipy.optimize import minimize\n",
    "from scipy.stats import bernoulli\n",
    "from scipy.special import expit as sigmoid\n",
    "\n",
    "from sklearn.datasets import make_moons\n",
    "from sklearn.gaussian_process import GaussianProcessClassifier\n",
    "from sklearn.gaussian_process.kernels import ConstantKernel, RBF\n",
    "\n",
    "from sys import path\n",
    "path.append(\"../\")\n",
    "from src.utils.gaussian_process import (\n",
    "    plot_data_1D,\n",
    "    plot_data_2D,\n",
    "    plot_pt_2D,\n",
    "    plot_db_2D)\n",
    "from imblearn.under_sampling import RandomUnderSampler"
   ]
  },
  {
   "cell_type": "markdown",
   "metadata": {},
   "source": [
    "I try to do this analysis when training on the Skin Temperature, which apparently has the best performance."
   ]
  },
  {
   "cell_type": "code",
   "execution_count": 3,
   "metadata": {},
   "outputs": [],
   "source": [
    "from src.data.smile import SmileData\n",
    "\n",
    "path_to_data: str = \"../data.nosync/dataset_smile_challenge_unravelled_train_cut10_stadd.npy\"\n",
    "data = SmileData(path_to_data=path_to_data, test=False, debug_mode=False)"
   ]
  },
  {
   "cell_type": "code",
   "execution_count": 4,
   "metadata": {},
   "outputs": [],
   "source": [
    "feature_selection_configs = dict(\n",
    "    criterion=\"mutual information\",\n",
    "    method=\"percentage\",\n",
    "    method_attribute=51,\n",
    "    joined=False,\n",
    "    deep_features=False,\n",
    ")\n"
   ]
  },
  {
   "cell_type": "code",
   "execution_count": 5,
   "metadata": {},
   "outputs": [],
   "source": [
    "data.feature_selection(**feature_selection_configs)"
   ]
  },
  {
   "cell_type": "code",
   "execution_count": 6,
   "metadata": {},
   "outputs": [],
   "source": [
    "x = data.get_handcrafted_features()['ST_features']"
   ]
  },
  {
   "cell_type": "code",
   "execution_count": 7,
   "metadata": {},
   "outputs": [],
   "source": [
    "y = data.get_labels()\n",
    "from src.utils import make_binary\n",
    "y = make_binary(y)"
   ]
  },
  {
   "cell_type": "code",
   "execution_count": 8,
   "metadata": {},
   "outputs": [],
   "source": [
    "# reduce the amount of data\n",
    "from sklearn.utils import shuffle\n",
    "x, y = shuffle(x, y)\n",
    "x_test, y_test = x[300:400], y[300:400]\n",
    "x = x[:210]\n",
    "y = y[:210]\n",
    "x, y = RandomUnderSampler().fit_resample(x, y)\n",
    "x, y = shuffle(x, y)"
   ]
  },
  {
   "cell_type": "code",
   "execution_count": 9,
   "metadata": {},
   "outputs": [
    {
     "data": {
      "image/png": "[encoded data removed]",
      "text/plain": [
       "<Figure size 432x288 with 1 Axes>"
      ]
     },
     "metadata": {
      "needs_background": "light"
     },
     "output_type": "display_data"
    },
    {
     "data": {
      "image/png": "[encoded data removed]",
      "text/plain": [
       "<Figure size 432x288 with 1 Axes>"
      ]
     },
     "metadata": {
      "needs_background": "light"
     },
     "output_type": "display_data"
    }
   ],
   "source": [
    "plot_data_2D(x,y)\n",
    "plt.title('2D training dataset')\n",
    "plt.legend()\n",
    "plt.show()\n",
    "\n",
    "plot_data_2D(x_test,y_test)\n",
    "plt.title('2D training dataset')\n",
    "plt.legend()\n",
    "plt.show()"
   ]
  },
  {
   "cell_type": "code",
   "execution_count": 10,
   "metadata": {},
   "outputs": [
    {
     "name": "stdout",
     "output_type": "stream",
     "text": [
      "192\n",
      "192\n",
      "100\n",
      "100\n"
     ]
    }
   ],
   "source": [
    "print(len(x))\n",
    "print(len(y))\n",
    "print(len(x_test))\n",
    "print(len(y_test))"
   ]
  },
  {
   "cell_type": "code",
   "execution_count": 84,
   "metadata": {},
   "outputs": [
    {
     "data": {
      "text/html": [
       "<style>#sk-container-id-23 {color: black;background-color: white;}#sk-container-id-23 pre{padding: 0;}#sk-container-id-23 div.sk-toggleable {background-color: white;}#sk-container-id-23 label.sk-toggleable__label {cursor: pointer;display: block;width: 100%;margin-bottom: 0;padding: 0.3em;box-sizing: border-box;text-align: center;}#sk-container-id-23 label.sk-toggleable__label-arrow:before {content: \"▸\";float: left;margin-right: 0.25em;color: #696969;}#sk-container-id-23 label.sk-toggleable__label-arrow:hover:before {color: black;}#sk-container-id-23 div.sk-estimator:hover label.sk-toggleable__label-arrow:before {color: black;}#sk-container-id-23 div.sk-toggleable__content {max-height: 0;max-width: 0;overflow: hidden;text-align: left;background-color: #f0f8ff;}#sk-container-id-23 div.sk-toggleable__content pre {margin: 0.2em;color: black;border-radius: 0.25em;background-color: #f0f8ff;}#sk-container-id-23 input.sk-toggleable__control:checked~div.sk-toggleable__content {max-height: 200px;max-width: 100%;overflow: auto;}#sk-container-id-23 input.sk-toggleable__control:checked~label.sk-toggleable__label-arrow:before {content: \"▾\";}#sk-container-id-23 div.sk-estimator input.sk-toggleable__control:checked~label.sk-toggleable__label {background-color: #d4ebff;}#sk-container-id-23 div.sk-label input.sk-toggleable__control:checked~label.sk-toggleable__label {background-color: #d4ebff;}#sk-container-id-23 input.sk-hidden--visually {border: 0;clip: rect(1px 1px 1px 1px);clip: rect(1px, 1px, 1px, 1px);height: 1px;margin: -1px;overflow: hidden;padding: 0;position: absolute;width: 1px;}#sk-container-id-23 div.sk-estimator {font-family: monospace;background-color: #f0f8ff;border: 1px dotted black;border-radius: 0.25em;box-sizing: border-box;margin-bottom: 0.5em;}#sk-container-id-23 div.sk-estimator:hover {background-color: #d4ebff;}#sk-container-id-23 div.sk-parallel-item::after {content: \"\";width: 100%;border-bottom: 1px solid gray;flex-grow: 1;}#sk-container-id-23 div.sk-label:hover label.sk-toggleable__label {background-color: #d4ebff;}#sk-container-id-23 div.sk-serial::before {content: \"\";position: absolute;border-left: 1px solid gray;box-sizing: border-box;top: 0;bottom: 0;left: 50%;z-index: 0;}#sk-container-id-23 div.sk-serial {display: flex;flex-direction: column;align-items: center;background-color: white;padding-right: 0.2em;padding-left: 0.2em;position: relative;}#sk-container-id-23 div.sk-item {position: relative;z-index: 1;}#sk-container-id-23 div.sk-parallel {display: flex;align-items: stretch;justify-content: center;background-color: white;position: relative;}#sk-container-id-23 div.sk-item::before, #sk-container-id-23 div.sk-parallel-item::before {content: \"\";position: absolute;border-left: 1px solid gray;box-sizing: border-box;top: 0;bottom: 0;left: 50%;z-index: -1;}#sk-container-id-23 div.sk-parallel-item {display: flex;flex-direction: column;z-index: 1;position: relative;background-color: white;}#sk-container-id-23 div.sk-parallel-item:first-child::after {align-self: flex-end;width: 50%;}#sk-container-id-23 div.sk-parallel-item:last-child::after {align-self: flex-start;width: 50%;}#sk-container-id-23 div.sk-parallel-item:only-child::after {width: 0;}#sk-container-id-23 div.sk-dashed-wrapped {border: 1px dashed gray;margin: 0 0.4em 0.5em 0.4em;box-sizing: border-box;padding-bottom: 0.4em;background-color: white;}#sk-container-id-23 div.sk-label label {font-family: monospace;font-weight: bold;display: inline-block;line-height: 1.2em;}#sk-container-id-23 div.sk-label-container {text-align: center;}#sk-container-id-23 div.sk-container {/* jupyter's `normalize.less` sets `[hidden] { display: none; }` but bootstrap.min.css set `[hidden] { display: none !important; }` so we also need the `!important` here to be able to override the default hidden behavior on the sphinx rendered scikit-learn.org. See: https://github.com/scikit-learn/scikit-learn/issues/21755 */display: inline-block !important;position: relative;}#sk-container-id-23 div.sk-text-repr-fallback {display: none;}</style><div id=\"sk-container-id-23\" class=\"sk-top-container\"><div class=\"sk-text-repr-fallback\"><pre>GaussianProcessClassifier(kernel=Matern(length_scale=0.4, nu=0.2))</pre><b>In a Jupyter environment, please rerun this cell to show the HTML representation or trust the notebook. <br />On GitHub, the HTML representation is unable to render, please try loading this page with nbviewer.org.</b></div><div class=\"sk-container\" hidden><div class=\"sk-item\"><div class=\"sk-estimator sk-toggleable\"><input class=\"sk-toggleable__control sk-hidden--visually\" id=\"sk-estimator-id-23\" type=\"checkbox\" checked><label for=\"sk-estimator-id-23\" class=\"sk-toggleable__label sk-toggleable__label-arrow\">GaussianProcessClassifier</label><div class=\"sk-toggleable__content\"><pre>GaussianProcessClassifier(kernel=Matern(length_scale=0.4, nu=0.2))</pre></div></div></div></div></div>"
      ],
      "text/plain": [
       "GaussianProcessClassifier(kernel=Matern(length_scale=0.4, nu=0.2))"
      ]
     },
     "execution_count": 84,
     "metadata": {},
     "output_type": "execute_result"
    }
   ],
   "source": [
    "from sklearn.gaussian_process.kernels import Matern, RBF, RationalQuadratic, ExpSineSquared,  DotProduct\n",
    "\n",
    "rbf = ConstantKernel(1.0) * RBF(length_scale=1.0)\n",
    "gpc = GaussianProcessClassifier(kernel=Matern(length_scale=0.4, nu=0.2))\n",
    "# Matern(length_scale=1.0, nu=0.2))\n",
    "\n",
    "gpc.fit(x, y.ravel())\n",
    "\n",
    "# Obtain optimized kernel parameters\n",
    "# sklearn_theta_0 = gpc.kernel_.k2.get_params()['length_scale']\n",
    "# sklearn_theta_1 = np.sqrt(gpc.kernel_.k1.get_params()['constant_value'])\n",
    "\n",
    "# print(f'Optimized theta = [{sklearn_theta_0:.3f}, {sklearn_theta_1:.3f}], negative log likelihood = {-gpc.log_marginal_likelihood_value_:.3f}')"
   ]
  },
  {
   "cell_type": "code",
   "execution_count": 12,
   "metadata": {},
   "outputs": [],
   "source": [
    "grid_x, grid_y = np.mgrid[0:1:1000j, 0:1:1000j]\n",
    "grid = np.stack([grid_x, grid_y], axis=-1)"
   ]
  },
  {
   "cell_type": "code",
   "execution_count": 1,
   "metadata": {},
   "outputs": [
    {
     "ename": "NameError",
     "evalue": "name 'gpc' is not defined",
     "output_type": "error",
     "traceback": [
      "\u001b[0;31m---------------------------------------------------------------------------\u001b[0m",
      "\u001b[0;31mNameError\u001b[0m                                 Traceback (most recent call last)",
      "\u001b[1;32m/Users/leonardoalchieri/Desktop/GIT/StressChallange/notebooks/tests.ipynb Cell 1'\u001b[0m in \u001b[0;36m<cell line: 1>\u001b[0;34m()\u001b[0m\n\u001b[0;32m----> <a href='vscode-notebook-cell:/Users/leonardoalchieri/Desktop/GIT/StressChallange/notebooks/tests.ipynb#ch0000000?line=0'>1</a>\u001b[0m pt_test_gpc \u001b[39m=\u001b[39m gpc\u001b[39m.\u001b[39mpredict_proba(grid\u001b[39m.\u001b[39mreshape(\u001b[39m-\u001b[39m\u001b[39m1\u001b[39m, \u001b[39m2\u001b[39m))[:, \u001b[39m1\u001b[39m]\u001b[39m.\u001b[39mreshape(\u001b[39m*\u001b[39mgrid_x\u001b[39m.\u001b[39mshape)\n\u001b[1;32m      <a href='vscode-notebook-cell:/Users/leonardoalchieri/Desktop/GIT/StressChallange/notebooks/tests.ipynb#ch0000000?line=1'>2</a>\u001b[0m threshold: \u001b[39mint\u001b[39m \u001b[39m=\u001b[39m \u001b[39m0.50\u001b[39m\n\u001b[1;32m      <a href='vscode-notebook-cell:/Users/leonardoalchieri/Desktop/GIT/StressChallange/notebooks/tests.ipynb#ch0000000?line=3'>4</a>\u001b[0m plt\u001b[39m.\u001b[39mfigure(figsize\u001b[39m=\u001b[39m(\u001b[39m9\u001b[39m, \u001b[39m7\u001b[39m))\n",
      "\u001b[0;31mNameError\u001b[0m: name 'gpc' is not defined"
     ]
    }
   ],
   "source": [
    "pt_test_gpc = gpc.predict_proba(grid.reshape(-1, 2))[:, 1].reshape(*grid_x.shape)\n",
    "threshold: int = 0.50\n",
    "\n",
    "plt.figure(figsize=(9, 7))\n",
    "plot_pt_2D(grid_x, grid_y, pt_test_gpc)\n",
    "plot_db_2D(grid_x, grid_y, pt_test_gpc, decision_boundary=threshold)\n",
    "plot_data_2D(x, y)\n",
    "plt.title('Predicted class 1 probabilities (GPC)')\n",
    "plt.legend()\n",
    "plt.show()"
   ]
  },
  {
   "cell_type": "code",
   "execution_count": 14,
   "metadata": {},
   "outputs": [],
   "source": [
    "threshold: int = 0.50"
   ]
  },
  {
   "cell_type": "code",
   "execution_count": 85,
   "metadata": {},
   "outputs": [
    {
     "data": {
      "text/plain": [
       "0.7083333333333334"
      ]
     },
     "execution_count": 85,
     "metadata": {},
     "output_type": "execute_result"
    }
   ],
   "source": [
    "from sklearn.metrics import accuracy_score\n",
    "accuracy_score(y, (gpc.predict_proba(x)[:, 1]>= threshold).astype(int))"
   ]
  },
  {
   "cell_type": "code",
   "execution_count": 86,
   "metadata": {},
   "outputs": [
    {
     "data": {
      "text/plain": [
       "0.55"
      ]
     },
     "execution_count": 86,
     "metadata": {},
     "output_type": "execute_result"
    }
   ],
   "source": [
    "from sklearn.metrics import accuracy_score\n",
    "accuracy_score(y_test, (gpc.predict_proba(x_test)[:, 1]>= threshold).astype(int))"
   ]
  },
  {
   "cell_type": "markdown",
   "metadata": {},
   "source": [
    "## Quantum stuff"
   ]
  },
  {
   "cell_type": "code",
   "execution_count": 40,
   "metadata": {},
   "outputs": [],
   "source": [
    "import matplotlib.pyplot as plt\n",
    "import numpy as np\n",
    "\n",
    "from qiskit import BasicAer\n",
    "from qiskit.circuit.library import ZZFeatureMap\n",
    "from qiskit.utils import QuantumInstance\n",
    "# from qiskit.algorithms import QSVM\n",
    "from qiskit_machine_learning.algorithms import QSVC\n",
    "\n",
    "from qiskit import Aer\n",
    "from qiskit import BasicAer\n",
    "from qiskit.utils import QuantumInstance\n",
    "from qiskit_machine_learning.kernels import QuantumKernel\n",
    "backend = Aer.get_backend('aer_simulator')\n",
    "quantum_instance = QuantumInstance(backend)\n",
    "# feature_map = ZZFeatureMap(feature_dimension=feature_dim, reps=2, entanglement='linear')\n",
    "# qsvm = QSVM(feature_map, training_input, test_input, datapoints[0])"
   ]
  },
  {
   "cell_type": "code",
   "execution_count": 41,
   "metadata": {},
   "outputs": [
    {
     "data": {
      "text/plain": [
       "[AerSimulator('aer_simulator'),\n",
       " AerSimulator('aer_simulator_statevector'),\n",
       " AerSimulator('aer_simulator_density_matrix'),\n",
       " AerSimulator('aer_simulator_stabilizer'),\n",
       " AerSimulator('aer_simulator_matrix_product_state'),\n",
       " AerSimulator('aer_simulator_extended_stabilizer'),\n",
       " AerSimulator('aer_simulator_unitary'),\n",
       " AerSimulator('aer_simulator_superop'),\n",
       " QasmSimulator('qasm_simulator'),\n",
       " StatevectorSimulator('statevector_simulator'),\n",
       " UnitarySimulator('unitary_simulator'),\n",
       " PulseSimulator('pulse_simulator')]"
      ]
     },
     "execution_count": 41,
     "metadata": {},
     "output_type": "execute_result"
    }
   ],
   "source": [
    "Aer.backends()"
   ]
  },
  {
   "cell_type": "code",
   "execution_count": 42,
   "metadata": {},
   "outputs": [],
   "source": [
    "from qiskit.circuit.library import ZFeatureMap\n",
    "feature_map = ZFeatureMap(feature_dimension=2)"
   ]
  },
  {
   "cell_type": "code",
   "execution_count": 43,
   "metadata": {},
   "outputs": [
    {
     "name": "stderr",
     "output_type": "stream",
     "text": [
      "/Users/leonardoalchieri/miniconda3/envs/quantum/lib/python3.10/site-packages/numpy/linalg/linalg.py:2146: RuntimeWarning: divide by zero encountered in det\n",
      "  r = _umath_linalg.det(a, signature=signature)\n",
      "/Users/leonardoalchieri/miniconda3/envs/quantum/lib/python3.10/site-packages/numpy/linalg/linalg.py:2146: RuntimeWarning: invalid value encountered in det\n",
      "  r = _umath_linalg.det(a, signature=signature)\n"
     ]
    }
   ],
   "source": [
    "qkernel = QuantumKernel(feature_map=feature_map, quantum_instance=quantum_instance)\n",
    "qsvc = QSVC(quantum_kernel=qkernel,probability=True).fit(x,y)"
   ]
  },
  {
   "cell_type": "code",
   "execution_count": 44,
   "metadata": {},
   "outputs": [
    {
     "data": {
      "text/plain": [
       "0.625"
      ]
     },
     "execution_count": 44,
     "metadata": {},
     "output_type": "execute_result"
    }
   ],
   "source": [
    "from sklearn.metrics import accuracy_score\n",
    "threshold: int = 0.52\n",
    "accuracy_score(y, (qsvc.predict_proba(x)[:, 1]>= threshold).astype(int))"
   ]
  },
  {
   "cell_type": "code",
   "execution_count": 84,
   "metadata": {},
   "outputs": [],
   "source": [
    "from sklearn.svm import SVC"
   ]
  },
  {
   "cell_type": "code",
   "execution_count": 85,
   "metadata": {},
   "outputs": [],
   "source": [
    "svc = SVC().fit(x,y)"
   ]
  },
  {
   "cell_type": "code",
   "execution_count": 86,
   "metadata": {},
   "outputs": [
    {
     "data": {
      "text/plain": [
       "0.59"
      ]
     },
     "execution_count": 86,
     "metadata": {},
     "output_type": "execute_result"
    }
   ],
   "source": [
    "svc.score(x, y)"
   ]
  },
  {
   "cell_type": "code",
   "execution_count": 1,
   "metadata": {},
   "outputs": [],
   "source": [
    "\n",
    "\n",
    "from numpy import savetxt\n",
    "from numpy.random import randint\n",
    "\n",
    "test = randint(low=0, high=2, size=100)"
   ]
  },
  {
   "cell_type": "code",
   "execution_count": 4,
   "metadata": {},
   "outputs": [],
   "source": [
    "savetxt(fname='test.txt', X=test, fmt='%i')"
   ]
  },
  {
   "cell_type": "code",
   "execution_count": null,
   "metadata": {},
   "outputs": [],
   "source": []
  }
 ],
 "metadata": {
  "kernelspec": {
   "display_name": "Python 3.10.4 ('quantum')",
   "language": "python",
   "name": "python3"
  },
  "language_info": {
   "codemirror_mode": {
    "name": "ipython",
    "version": 3
   },
   "file_extension": ".py",
   "mimetype": "text/x-python",
   "name": "python",
   "nbconvert_exporter": "python",
   "pygments_lexer": "ipython3",
   "version": "3.10.4"
  },
  "orig_nbformat": 4,
  "vscode": {
   "interpreter": {
    "hash": "451da5d726709fd542857e4a01d7c348e8e55dfc39128a2fb02330f7e061ca1f"
   }
  }
 },
 "nbformat": 4,
 "nbformat_minor": 2
}
