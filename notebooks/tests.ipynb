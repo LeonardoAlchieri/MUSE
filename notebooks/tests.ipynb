{
 "cells": [
  {
   "cell_type": "code",
   "execution_count": 13,
   "metadata": {},
   "outputs": [],
   "source": [
    "from sys import path\n",
    "path.append('../')"
   ]
  },
  {
   "cell_type": "code",
   "execution_count": 14,
   "metadata": {},
   "outputs": [],
   "source": [
    "data_path: str = \"../data.nosync/dataset_smile_challenge.npy\""
   ]
  },
  {
   "cell_type": "markdown",
   "metadata": {},
   "source": [
    "# Exploration"
   ]
  },
  {
   "cell_type": "code",
   "execution_count": 4,
   "metadata": {},
   "outputs": [],
   "source": [
    "from numpy import load, fromiter, ndarray\n",
    "from seaborn import countplot\n",
    "from matplotlib.pyplot import (\n",
    "    ylabel as set_ylabel,\n",
    "    xlabel as set_xlabel,\n",
    "    title as plot_title,\n",
    "    show as show_fig,\n",
    "    savefig\n",
    ")\n",
    "from src.utils.vizualizations import add_text_barplot"
   ]
  },
  {
   "cell_type": "code",
   "execution_count": 5,
   "metadata": {},
   "outputs": [],
   "source": [
    "data: dict = load(data_path, allow_pickle=True).item()"
   ]
  },
  {
   "cell_type": "code",
   "execution_count": 6,
   "metadata": {},
   "outputs": [
    {
     "data": {
      "image/png": "[encoded data removed]",
      "text/plain": [
       "<Figure size 432x288 with 1 Axes>"
      ]
     },
     "metadata": {
      "needs_background": "light"
     },
     "output_type": "display_data"
    }
   ],
   "source": [
    "ax = countplot(x=data['train']['labels'])\n",
    "set_ylabel(\"Count\")\n",
    "set_xlabel(\"Stress Level\")\n",
    "plot_title(\"Distribution of Train Labels\")\n",
    "add_text_barplot(ax, data['train']['labels'], 0.3)\n",
    "savefig('../visualizations/distribution_train_labels.pdf')\n",
    "show_fig()"
   ]
  },
  {
   "cell_type": "code",
   "execution_count": 7,
   "metadata": {},
   "outputs": [
    {
     "data": {
      "image/png": "[encoded data removed]",
      "text/plain": [
       "<Figure size 432x288 with 1 Axes>"
      ]
     },
     "metadata": {
      "needs_background": "light"
     },
     "output_type": "display_data"
    }
   ],
   "source": [
    "train_labels_aggregatored: ndarray = fromiter(\n",
    "    (0 if label == 0 else 1 for label in data[\"train\"][\"labels\"]), bool\n",
    ")\n",
    "\n",
    "\n",
    "ax = countplot(x=train_labels_aggregatored)\n",
    "set_ylabel(\"Count\")\n",
    "set_xlabel(\"Stressed?\")\n",
    "plot_title(\"Distribution of Train Labels (Aggregated)\")\n",
    "add_text_barplot(ax, train_labels_aggregatored, 0.1)\n",
    "\n",
    "savefig(\"../visualizations/distribution_train_labels_aggregated.pdf\")\n",
    "show_fig()\n"
   ]
  },
  {
   "cell_type": "markdown",
   "metadata": {},
   "source": [
    "From the distribution plots, a few simple conclusions can be made:\n",
    "1. If we use a **binary** classification, the classes are almost equally distributed: in this case, it probably is not necessary to apply any \"rebalancing\" or similar.\n",
    "2. If we use a **multiclass** classification, the classes are not equally distributed: in this case, it is important to figure out what to do with it."
   ]
  },
  {
   "cell_type": "code",
   "execution_count": 12,
   "metadata": {},
   "outputs": [
    {
     "data": {
      "text/markdown": [
       "Dimension of features in train set"
      ],
      "text/plain": [
       "<IPython.core.display.Markdown object>"
      ]
     },
     "metadata": {},
     "output_type": "display_data"
    },
    {
     "data": {
      "text/markdown": [
       "## deep_features"
      ],
      "text/plain": [
       "<IPython.core.display.Markdown object>"
      ]
     },
     "metadata": {},
     "output_type": "display_data"
    },
    {
     "data": {
      "text/markdown": [
       "\t\tECG_features_C: (2070, 60, 256)"
      ],
      "text/plain": [
       "<IPython.core.display.Markdown object>"
      ]
     },
     "metadata": {},
     "output_type": "display_data"
    },
    {
     "data": {
      "text/markdown": [
       "\t\tECG_features_T: (2070, 60, 64)"
      ],
      "text/plain": [
       "<IPython.core.display.Markdown object>"
      ]
     },
     "metadata": {},
     "output_type": "display_data"
    },
    {
     "data": {
      "text/markdown": [
       "\t\tmasking: (2070, 60)"
      ],
      "text/plain": [
       "<IPython.core.display.Markdown object>"
      ]
     },
     "metadata": {},
     "output_type": "display_data"
    },
    {
     "data": {
      "text/markdown": [
       "## hand_crafted_features"
      ],
      "text/plain": [
       "<IPython.core.display.Markdown object>"
      ]
     },
     "metadata": {},
     "output_type": "display_data"
    },
    {
     "data": {
      "text/markdown": [
       "\t\tECG_features: (2070, 60, 8)"
      ],
      "text/plain": [
       "<IPython.core.display.Markdown object>"
      ]
     },
     "metadata": {},
     "output_type": "display_data"
    },
    {
     "data": {
      "text/markdown": [
       "\t\tGSR_features: (2070, 60, 12)"
      ],
      "text/plain": [
       "<IPython.core.display.Markdown object>"
      ]
     },
     "metadata": {},
     "output_type": "display_data"
    },
    {
     "data": {
      "text/markdown": [
       "\t\tECG_masking: (2070, 60)"
      ],
      "text/plain": [
       "<IPython.core.display.Markdown object>"
      ]
     },
     "metadata": {},
     "output_type": "display_data"
    },
    {
     "data": {
      "text/markdown": [
       "\t\tGSR_masking: (2070, 60)"
      ],
      "text/plain": [
       "<IPython.core.display.Markdown object>"
      ]
     },
     "metadata": {},
     "output_type": "display_data"
    },
    {
     "data": {
      "text/markdown": [
       "## labels"
      ],
      "text/plain": [
       "<IPython.core.display.Markdown object>"
      ]
     },
     "metadata": {},
     "output_type": "display_data"
    },
    {
     "data": {
      "text/markdown": [
       "\t\t(2070,)"
      ],
      "text/plain": [
       "<IPython.core.display.Markdown object>"
      ]
     },
     "metadata": {},
     "output_type": "display_data"
    }
   ],
   "source": [
    "from IPython.display import display, Markdown as md\n",
    "\n",
    "display(md(\"Dimension of features in train set\"))\n",
    "for feature_class_keys in data['train'].keys():\n",
    "    display(md(f\"## {feature_class_keys}\"))    \n",
    "    if isinstance(data['train'][feature_class_keys], dict):\n",
    "        for feature_keys in data['train'][feature_class_keys].keys():\n",
    "            display(md(f\"\\t\\t{feature_keys}: {data['train'][feature_class_keys][feature_keys].shape}\"))\n",
    "    else:\n",
    "        display(md(f\"\\t\\t{data['train'][feature_class_keys].shape}\"))"
   ]
  },
  {
   "cell_type": "markdown",
   "metadata": {},
   "source": [
    "# Questions\n",
    "\n",
    "We have a set of questions to pose to the challange organizers, which are listed here."
   ]
  },
  {
   "cell_type": "markdown",
   "metadata": {},
   "source": [
    "* What the \"masking\" features that are present in the dataset? \n",
    "* In the website, only 8 GSR features are described: however, the challange has 12. What are these?\n",
    "* Is it possible to know which features are which? Indeed, are they ordered as described on the website? (Obviously for the hand-crafter features, since for the others it does not make any sense)"
   ]
  },
  {
   "cell_type": "markdown",
   "metadata": {},
   "source": [
    "# Simple ML-models"
   ]
  }
 ],
 "metadata": {
  "interpreter": {
   "hash": "55bb74fc18e96b0f2608afdbe441720cffe4a926017ed3d6c0da3ee39c1b48a2"
  },
  "kernelspec": {
   "display_name": "Python 3.10.4 ('stress')",
   "language": "python",
   "name": "python3"
  },
  "language_info": {
   "codemirror_mode": {
    "name": "ipython",
    "version": 3
   },
   "file_extension": ".py",
   "mimetype": "text/x-python",
   "name": "python",
   "nbconvert_exporter": "python",
   "pygments_lexer": "ipython3",
   "version": "3.10.4"
  },
  "orig_nbformat": 4
 },
 "nbformat": 4,
 "nbformat_minor": 2
}
