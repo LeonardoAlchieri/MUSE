{
 "cells": [
  {
   "cell_type": "markdown",
   "metadata": {},
   "source": [
    "Here are some scripts to analyse the results obtained from the training runs. Most of them are related to the average over cross validation. Some comments are also present."
   ]
  },
  {
   "cell_type": "code",
   "execution_count": 1,
   "metadata": {},
   "outputs": [],
   "source": [
    "from pandas import read_csv\n",
    "from IPython.display import display, Markdown as md"
   ]
  },
  {
   "cell_type": "code",
   "execution_count": 4,
   "metadata": {},
   "outputs": [],
   "source": [
    "path: str = \"../results.nosync/train/classical_ml/rootsession28/cross_val.csv\"\n",
    "data = read_csv(path, index_col=\n",
    "                0, engine='c')"
   ]
  },
  {
   "cell_type": "code",
   "execution_count": 5,
   "metadata": {},
   "outputs": [
    {
     "data": {
      "text/markdown": [
       "## RESULTS FOR rootsession28"
      ],
      "text/plain": [
       "<IPython.core.display.Markdown object>"
      ]
     },
     "metadata": {},
     "output_type": "display_data"
    },
    {
     "name": "stdout",
     "output_type": "stream",
     "text": [
      "\n",
      "\n",
      "concat_label_level_('hand_crafted_features', 'ECG_features')_GaussianProcessClassifier\n",
      "57.43421052631579 ±3.1706916637141767\n",
      "\n",
      "concat_label_level_('hand_crafted_features', 'ST_features')_GaussianProcessClassifier\n",
      "58.75 ±3.1809888975390255\n",
      "\n",
      "concat_label_level_('hand_crafted_features', 'ST_features')_AdaBoostClassifier\n",
      "55.39473684210525 ±2.670616880308967\n",
      "\n",
      "concat_label_level_('hand_crafted_features', 'ST_features')_GaussianNB\n",
      "55.52631578947368 ±3.347270034230286\n",
      "\n",
      "concat_label_level_('hand_crafted_features', 'ST_features')_QuadraticDiscriminantAnalysis\n",
      "58.68421052631578 ±3.600660826458953\n",
      "\n"
     ]
    }
   ],
   "source": [
    "display(md(f'## RESULTS FOR {path.split(\"/\")[-2]}'))\n",
    "print(\"\\n\")\n",
    "for col in data.columns:\n",
    "    val = data[col].mean()*100\n",
    "    if val > 55:\n",
    "        print(f\"{col}\\n{val} ±{data[col].std()/5*100}\\n\")"
   ]
  },
  {
   "cell_type": "code",
   "execution_count": 3,
   "metadata": {},
   "outputs": [
    {
     "data": {
      "text/markdown": [
       "## RESULTS FOR rootsession15"
      ],
      "text/plain": [
       "<IPython.core.display.Markdown object>"
      ]
     },
     "metadata": {},
     "output_type": "display_data"
    },
    {
     "name": "stdout",
     "output_type": "stream",
     "text": [
      "\n",
      "\n",
      "concat_label_level_('hand_crafted_features', 'ECG_features')_GaussianProcessClassifier\n",
      "58.35748792270531 ±1.6577863257605578\n",
      "\n",
      "concat_label_level_('hand_crafted_features', 'GSR_features')_KNeighborsClassifier\n",
      "55.45893719806764 ±0.9893099148540857\n",
      "\n",
      "concat_label_level_('hand_crafted_features', 'GSR_features')_GaussianProcessClassifier\n",
      "57.48792270531401 ±2.1314514792623895\n",
      "\n",
      "concat_label_level_('hand_crafted_features', 'GSR_features')_AdaBoostClassifier\n",
      "55.31400966183575 ±1.4361545984865245\n",
      "\n",
      "concat_label_level_('hand_crafted_features', 'GSR_features')_RandomForestClassifier\n",
      "56.328502415458935 ±1.374110976816566\n",
      "\n",
      "concat_label_level_('hand_crafted_features', 'GSR_features')_XGBClassifier\n",
      "55.12077294685989 ±1.212294111430957\n",
      "\n"
     ]
    }
   ],
   "source": [
    "display(md(f'## RESULTS FOR {path.split(\"/\")[-2]}'))\n",
    "print(\"\\n\")\n",
    "for col in data.columns:\n",
    "    val = data[col].mean()*100\n",
    "    if val > 55:\n",
    "        print(f\"{col}\\n{val} ±{data[col].std()/5*100}\\n\")"
   ]
  },
  {
   "cell_type": "code",
   "execution_count": 4,
   "metadata": {},
   "outputs": [
    {
     "data": {
      "text/markdown": [
       "## RESULTS FOR rootsession21"
      ],
      "text/plain": [
       "<IPython.core.display.Markdown object>"
      ]
     },
     "metadata": {},
     "output_type": "display_data"
    },
    {
     "name": "stdout",
     "output_type": "stream",
     "text": [
      "\n",
      "\n",
      "concat_label_level_('hand_crafted_features', 'ECG_features')_GaussianProcessClassifier\n",
      "58.35748792270531 ±1.6577863257605578\n",
      "\n",
      "concat_label_level_('hand_crafted_features', 'ST_features')_GaussianProcessClassifier\n",
      "60.33816425120773 ±2.339525738920289\n",
      "\n",
      "concat_label_level_('hand_crafted_features', 'ST_features')_AdaBoostClassifier\n",
      "55.94202898550724 ±1.6838596043750862\n",
      "\n",
      "concat_label_level_('hand_crafted_features', 'ST_features')_GaussianNB\n",
      "57.14975845410628 ±2.9320129671736117\n",
      "\n",
      "concat_label_level_('hand_crafted_features', 'ST_features')_QuadraticDiscriminantAnalysis\n",
      "59.516908212560395 ±2.674000200292072\n",
      "\n",
      "concat_label_level_('hand_crafted_features', 'ST_features')_RandomForestClassifier\n",
      "56.038647342995176 ±1.6591622379892121\n",
      "\n",
      "concat_label_level_('hand_crafted_features', 'ST_features')_XGBClassifier\n",
      "55.507246376811594 ±1.8289276328589728\n",
      "\n"
     ]
    }
   ],
   "source": [
    "display(md(f'## RESULTS FOR {path.split(\"/\")[-2]}'))\n",
    "print(\"\\n\")\n",
    "for col in data.columns:\n",
    "    val = data[col].mean()*100\n",
    "    if val > 55:\n",
    "        print(f\"{col}\\n{val} ±{data[col].std()/5*100}\\n\")"
   ]
  },
  {
   "cell_type": "code",
   "execution_count": 17,
   "metadata": {},
   "outputs": [
    {
     "data": {
      "text/markdown": [
       "## RESULTS FOR leonardoalchierisession0"
      ],
      "text/plain": [
       "<IPython.core.display.Markdown object>"
      ]
     },
     "metadata": {},
     "output_type": "display_data"
    },
    {
     "name": "stdout",
     "output_type": "stream",
     "text": [
      "\n",
      "\n",
      "concat_label_level_('hand_crafted_features', 'ECG_features')_GaussianProcessClassifier\n",
      "58.35748792270531 ±1.6577863257605578\n",
      "\n",
      "concat_label_level_('hand_crafted_features', 'ST_features')_GaussianProcessClassifier\n",
      "60.33816425120773 ±2.339525738920289\n",
      "\n",
      "concat_label_level_('hand_crafted_features', 'ST_features')_AdaBoostClassifier\n",
      "55.94202898550724 ±1.6838596043750862\n",
      "\n",
      "concat_label_level_('hand_crafted_features', 'ST_features')_GaussianNB\n",
      "57.14975845410628 ±2.9320129671736117\n",
      "\n",
      "concat_label_level_('hand_crafted_features', 'ST_features')_QuadraticDiscriminantAnalysis\n",
      "59.516908212560395 ±2.674000200292072\n",
      "\n",
      "concat_label_level_('hand_crafted_features', 'ST_features')_RandomForestClassifier\n",
      "55.410628019323674 ±1.7445195919236982\n",
      "\n",
      "concat_label_level_('hand_crafted_features', 'ST_features')_XGBClassifier\n",
      "55.507246376811594 ±1.8289276328589728\n",
      "\n"
     ]
    }
   ],
   "source": [
    "display(md(f'## RESULTS FOR {path.split(\"/\")[-2]}'))\n",
    "print(\"\\n\")\n",
    "for col in data.columns:\n",
    "    val = data[col].mean()*100\n",
    "    if val > 55:\n",
    "        print(f\"{col}\\n{val} ±{data[col].std()/5*100}\\n\")"
   ]
  },
  {
   "cell_type": "code",
   "execution_count": null,
   "metadata": {},
   "outputs": [],
   "source": []
  },
  {
   "cell_type": "code",
   "execution_count": null,
   "metadata": {},
   "outputs": [],
   "source": []
  }
 ],
 "metadata": {
  "interpreter": {
   "hash": "643980dca58626c9db13de6fa762274e0ff1919d6fc081f47feb3d972ff3a549"
  },
  "kernelspec": {
   "display_name": "Python 3.10.4 ('stress')",
   "language": "python",
   "name": "python3"
  },
  "language_info": {
   "codemirror_mode": {
    "name": "ipython",
    "version": 3
   },
   "file_extension": ".py",
   "mimetype": "text/x-python",
   "name": "python",
   "nbconvert_exporter": "python",
   "pygments_lexer": "ipython3",
   "version": "3.10.4"
  },
  "orig_nbformat": 4
 },
 "nbformat": 4,
 "nbformat_minor": 2
}
