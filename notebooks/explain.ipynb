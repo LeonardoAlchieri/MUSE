{
 "cells": [
  {
   "cell_type": "markdown",
   "metadata": {},
   "source": [
    "# Introduction\n",
    "\n",
    "In this notebook, I consider the model that has the \"best\" results, I train it again, and I show some interesting highlights with regard to its explainability. Indeed, the idea is to show which features are used most for the purpose of predicting the label. \n",
    "\n",
    "In order to do this, a cross-validation paradigm is still implemented. \n",
    "\n",
    "It should be noted that we aknowledge the not-so-good perform of the classifier we present, but there is not much that can be done to improve its performance, as also shown by similar results of the organizers and other entries in the leaderboard."
   ]
  },
  {
   "cell_type": "markdown",
   "metadata": {},
   "source": [
    "The model we present here is as **multi-modal model** for ECG and ST as follow:\n",
    "- SVM for ECG and SVM for ST at \"minute-level\", i.e. with the labels unravelled;\n",
    "- AdaBoost to perform the senso-temporal fusion\n",
    "\n",
    "As such, 2 phases to explain are present: the first step is to explain which features, in the two sensors, appear to be most interesting; and the second is to figure out which timestep, and in which sensor, is the most important one for the fusion. \n",
    "\n",
    "It is noted how there are indeed some problematics, which are not explored: in the first step, we are only interested which features, at minute-level, can predict if a person is stressed or not for each independent sensor. For example, we will be able to tell if the *mean HR* is more important than the *std HR*, but not if it's more important than the *std ST*.\n",
    "On the other hand, on the second step we will be able to tell which time in which sensor is more important, and thus tell both the most important times and sensors, but not go into detail.\n",
    "Indeed, it is recognized as the main limit of our approach, but which at the same time allows for clear explainability. \n",
    "\n",
    "As a note, training with the whole \"joined\" feature sets should be tested, but has not at this moment."
   ]
  },
  {
   "cell_type": "markdown",
   "metadata": {},
   "source": [
    "# Training"
   ]
  },
  {
   "cell_type": "code",
   "execution_count": 28,
   "metadata": {},
   "outputs": [],
   "source": [
    "from gc import collect as picking_trash_up\n",
    "from logging import DEBUG, INFO, WARNING, basicConfig, getLogger\n",
    "from os.path import basename\n",
    "from os.path import join as join_paths\n",
    "from sys import path\n",
    "from typing import Callable\n",
    "\n",
    "from numpy import ndarray, sqrt\n",
    "from numpy.random import seed as set_seed\n",
    "from pandas import DataFrame\n",
    "from sklearn.base import ClassifierMixin\n",
    "from sklearn.discriminant_analysis import QuadraticDiscriminantAnalysis\n",
    "from sklearn.ensemble import AdaBoostClassifier\n",
    "from sklearn.svm import SVC\n",
    "from sklearn.gaussian_process import GaussianProcessClassifier\n",
    "from sklearn.gaussian_process.kernels import Matern\n",
    "from sklearn.metrics import accuracy_score\n",
    "from sklearn.model_selection import cross_val_score\n",
    "from tqdm import tqdm\n",
    "\n",
    "path.append(\"..\")\n",
    "from src.data.smile import SmileData\n",
    "from src.models import MultiModalClassifier\n",
    "from src.utils import make_binary, all_subsets\n",
    "from src.utils.models import get_fusion_method, get_ml_model\n",
    "from src.utils.cv import make_unravelled_folds\n",
    "from src.utils.score import cross_validation\n",
    "from src.utils.io import (\n",
    "    create_output_folder,\n",
    "    delete_output_folder_exception,\n",
    "    load_config,\n",
    ")\n",
    "from src.utils.score import Merger\n",
    "\n",
    "ecg_features_names: list[str] = [\n",
    "    \"HR mean\",\n",
    "    \"HR HRV std R-R\",\n",
    "    \"HR RMSE R-R diff\",\n",
    "    \"HR low freq\",\n",
    "    \"HR high freq\",\n",
    "    \"HR ratio low/high freq\",\n",
    "    \"HR ratio very low/low freq\",\n",
    "    \"HR cycle\",\n",
    "]\n",
    "\n",
    "gsr_features_names: list[str] = [\n",
    "    \"GSR avg\",\n",
    "    \"GSR signal power phasic\",\n",
    "    \"GSR response rate\",\n",
    "    \"GSR second difference\",\n",
    "    \"GSR #responses\",\n",
    "    \"GSR magnitude\",\n",
    "    \"GSR duration\",\n",
    "    \"GSR area\",\n",
    "]\n",
    "\n",
    "st_features_names: list[str] = [\"ST avg\", \"ST std\", \"ST slope fitted\", \"ST median\"]\n",
    "\n",
    "feature_names: dict[str, list[str]] = dict(\n",
    "    ECG_features=ecg_features_names,\n",
    "    ST_features=st_features_names,\n",
    "    GSR_features=gsr_features_names,\n",
    ")\n",
    "\n",
    "features: list[tuple[str, str]] = [\n",
    "    (\"hand_crafted_features\", \"ECG_features\"),\n",
    "    (\"hand_crafted_features\", \"GSR_features\"),\n",
    "    (\"hand_crafted_features\", \"ST_features\"),\n",
    "    (\"deep_features\", \"ECG_features_C\"),\n",
    "    (\"deep_features\", \"ECG_features_T\"),\n",
    "]\n",
    "feature_names_short = dict(ECG_features='ECG', GSR_features='GSR', ST_features='ST')\n"
   ]
  },
  {
   "cell_type": "code",
   "execution_count": 3,
   "metadata": {},
   "outputs": [],
   "source": [
    "set_seed(42)\n",
    "\n",
    "path_to_config: str = f\"../src/run/config_multimodal_classical_ml.yml\"\n",
    "\n",
    "configs = load_config(path=path_to_config)\n",
    "\n",
    "cv_num: int = configs[\"cross_validation_folds\"]\n",
    "n_jobs: int = configs[\"n_jobs\"]\n",
    "n_jobs_cv: int = configs[\"n_jobs_cv\"]\n",
    "time_length: int = configs[\"time_length\"]\n",
    "path_to_data: str = configs[\"path_to_data\"]\n",
    "gaussian_process_kernel: str = configs[\"gaussian_process_kernel\"]\n",
    "fusion_methods: str | list[str] = configs[\"fusion_method\"]\n",
    "remove_sensor: str | None = configs[\"remove_sensor\"]\n",
    "binary: bool = configs[\"binary\"]\n",
    "unravelled: bool = configs[\"unravelled\"]\n",
    "debug_mode: bool = True\n",
    "st_feat: bool = configs[\"st_feat\"]\n",
    "cp_all_config: bool = configs[\"cp_all_config\"]\n",
    "feature_selection: bool = configs[\"feature_selection\"]\n",
    "probability: bool = configs[\"probability\"]\n",
    "shuffle_cv: bool = configs[\"shuffle_cv\"]\n",
    "feature_selection_configs: dict = configs[\"feature_selection_configs\"]\n",
    "models_config: dict = configs[\"models_config\"]\n",
    "\n",
    "data = SmileData(path_to_data=join_paths(\"..\", path_to_data), test=False, debug_mode=False)\n",
    "\n",
    "if feature_selection:\n",
    "    data.feature_selection(**feature_selection_configs)\n",
    "\n",
    "if st_feat:\n",
    "    features: list[tuple[str, str]] = [\n",
    "        (\"hand_crafted_features\", \"ECG_features\"),\n",
    "        (\"hand_crafted_features\", \"GSR_features\"),\n",
    "        (\"hand_crafted_features\", \"ST_features\"),\n",
    "    ]\n",
    "else:\n",
    "    features: list[tuple[str, str]] = [\n",
    "        (\"hand_crafted_features\", \"ECG_features\"),\n",
    "        (\"hand_crafted_features\", \"GSR_features\"),\n",
    "    ]\n",
    "# 2070, 60, M\n",
    "if not unravelled:\n",
    "    raise NotImplementedError(\n",
    "        \"This code is not implemented correctly for not-unravelled data.\"\n",
    "    )\n",
    "\n",
    "results = DataFrame(\n",
    "    index=[i for i in range(cv_num)],\n",
    ")\n",
    "\n",
    "features: list[tuple[tuple[str, str], ...]] = [\n",
    "    subset\n",
    "    for subset in all_subsets([feat for feat in features if feat[-1] != remove_sensor])\n",
    "    if len(subset) > 1\n",
    "]\n",
    "\n",
    "x: dict[str, ndarray] = data.get_handcrafted_features()\n",
    "y: ndarray = data.get_labels()\n",
    "if binary:\n",
    "    y: ndarray = make_binary(y)\n",
    "\n",
    "cv: list[tuple[ndarray, ndarray]] = make_unravelled_folds(\n",
    "    t=time_length, n_folds=cv_num, n_data=2070, shuffle=shuffle_cv\n",
    ")\n",
    "\n",
    "if isinstance(fusion_methods, str):\n",
    "    fusion_methods: list[str] = [fusion_methods]"
   ]
  },
  {
   "cell_type": "code",
   "execution_count": 4,
   "metadata": {},
   "outputs": [],
   "source": [
    "fusion_methods = ['AdaBoost']\n",
    "n_jobs: int = -1\n",
    "n_jobs_cv: int = -1\n",
    "n_repeats: int = 50"
   ]
  },
  {
   "cell_type": "code",
   "execution_count": 5,
   "metadata": {},
   "outputs": [
    {
     "name": "stderr",
     "output_type": "stream",
     "text": [
      "Iteration over fusion methods:   0%|          | 0/1 [00:00<?, ?it/s]/Users/leonardoalchieri/Desktop/GIT/StressChallange/notebooks/../src/models/multimodal.py:62: UserWarning: Assuming fusion method to be ML based.\n",
      "  warn(f\"Assuming fusion method to be ML based.\")\n",
      "/Users/leonardoalchieri/Desktop/GIT/StressChallange/notebooks/../src/models/multimodal.py:62: UserWarning: Assuming fusion method to be ML based.\n",
      "  warn(f\"Assuming fusion method to be ML based.\")\n",
      "/Users/leonardoalchieri/Desktop/GIT/StressChallange/notebooks/../src/models/multimodal.py:62: UserWarning: Assuming fusion method to be ML based.\n",
      "  warn(f\"Assuming fusion method to be ML based.\")\n",
      "/Users/leonardoalchieri/Desktop/GIT/StressChallange/notebooks/../src/models/multimodal.py:62: UserWarning: Assuming fusion method to be ML based.\n",
      "  warn(f\"Assuming fusion method to be ML based.\")\n",
      "/Users/leonardoalchieri/Desktop/GIT/StressChallange/notebooks/../src/models/multimodal.py:62: UserWarning: Assuming fusion method to be ML based.\n",
      "  warn(f\"Assuming fusion method to be ML based.\")\n",
      "/Users/leonardoalchieri/Desktop/GIT/StressChallange/notebooks/../src/models/multimodal.py:62: UserWarning: Assuming fusion method to be ML based.\n",
      "  warn(f\"Assuming fusion method to be ML based.\")\n",
      "/Users/leonardoalchieri/Desktop/GIT/StressChallange/notebooks/../src/models/multimodal.py:62: UserWarning: Assuming fusion method to be ML based.\n",
      "  warn(f\"Assuming fusion method to be ML based.\")\n",
      "/Users/leonardoalchieri/Desktop/GIT/StressChallange/notebooks/../src/models/multimodal.py:62: UserWarning: Assuming fusion method to be ML based.\n",
      "  warn(f\"Assuming fusion method to be ML based.\")\n",
      "/Users/leonardoalchieri/Desktop/GIT/StressChallange/notebooks/../src/models/multimodal.py:62: UserWarning: Assuming fusion method to be ML based.\n",
      "  warn(f\"Assuming fusion method to be ML based.\")\n",
      "/Users/leonardoalchieri/Desktop/GIT/StressChallange/notebooks/../src/models/multimodal.py:62: UserWarning: Assuming fusion method to be ML based.\n",
      "  warn(f\"Assuming fusion method to be ML based.\")\n",
      "Iterations over subsets: 100%|██████████| 1/1 [14:40<00:00, 880.78s/it]\n",
      "Iteration over fusion methods: 100%|██████████| 1/1 [14:40<00:00, 880.79s/it]\n"
     ]
    }
   ],
   "source": [
    "for fusion_method in tqdm(fusion_methods, desc=\"Iteration over fusion methods\"):\n",
    "\n",
    "    for feature_subset in tqdm(features, desc=\"Iterations over subsets\"):\n",
    "\n",
    "        current_feature_names: list[str] = [feature[1] for feature in feature_subset]\n",
    "        models: list[ClassifierMixin] = {\n",
    "            feature_name: get_ml_model(\n",
    "                model_name=models_config[feature_name],\n",
    "                gaussian_process_kernel=gaussian_process_kernel,\n",
    "                n_jobs=n_jobs,\n",
    "                probability=probability,\n",
    "            )\n",
    "            for feature_name in current_feature_names\n",
    "        }\n",
    "        multimodal_classifier = MultiModalClassifier(\n",
    "            models=models,\n",
    "            fusion_method=get_fusion_method(\n",
    "                fusion_method=fusion_method,\n",
    "                gaussian_process_kernel=gaussian_process_kernel,\n",
    "                n_jobs=n_jobs,\n",
    "                probability=probability,\n",
    "            ),\n",
    "            time_length=time_length,\n",
    "            probability=probability,\n",
    "        )\n",
    "\n",
    "        scores = cross_validation(\n",
    "            x=x, y=y, estimator=multimodal_classifier, cv=cv, n_jobs=n_jobs_cv, n_repeats=n_repeats\n",
    "        )\n",
    "\n",
    "        results[f\"{current_feature_names} {fusion_method}\"] = scores\n"
   ]
  },
  {
   "cell_type": "code",
   "execution_count": 14,
   "metadata": {},
   "outputs": [
    {
     "name": "stdout",
     "output_type": "stream",
     "text": [
      "Mean accuracy: 59.13 +/- 3\n"
     ]
    }
   ],
   "source": [
    "from numpy import mean, std, sqrt\n",
    "mean_acc = mean([score[0] for score in scores])\n",
    "se_acc = std([score[0] for score in scores])/sqrt(10)\n",
    "print(\"Mean accuracy: %.2f +/- %.0f\" % (mean_acc*100, se_acc*100))"
   ]
  },
  {
   "cell_type": "code",
   "execution_count": 9,
   "metadata": {},
   "outputs": [],
   "source": [
    "from numpy import save\n",
    "from pickle import dump, load\n",
    "with open('../results.nosync/importance_score_2svm_adaboost.npy', 'wb') as f:\n",
    "    dump(scores, f)"
   ]
  },
  {
   "cell_type": "markdown",
   "metadata": {},
   "source": [
    "## Minute-level Features"
   ]
  },
  {
   "cell_type": "markdown",
   "metadata": {},
   "source": [
    "(not to run everything again)\n",
    "```py\n",
    "from pickle import load\n",
    "with open('../results.nosync/importance_score_2svm_adaboost.npy', 'rb') as f:\n",
    "    scores = load(f)\n",
    "```"
   ]
  },
  {
   "cell_type": "code",
   "execution_count": 20,
   "metadata": {},
   "outputs": [],
   "source": [
    "mean_minutelevel_importance_score = {\n",
    "    feat_name: (\n",
    "        mean([score[1][0][feat_name] for score in scores], axis=0),\n",
    "        std([score[1][0][feat_name] for score in scores], axis=0) / sqrt(n_repeats),\n",
    "    )\n",
    "    for feat_name in current_feature_names\n",
    "}\n"
   ]
  },
  {
   "cell_type": "code",
   "execution_count": 21,
   "metadata": {},
   "outputs": [
    {
     "data": {
      "image/png": "[encoded data removed]",
      "text/plain": [
       "<Figure size 720x360 with 1 Axes>"
      ]
     },
     "metadata": {
      "needs_background": "light"
     },
     "output_type": "display_data"
    },
    {
     "data": {
      "image/png": "[encoded data removed]",
      "text/plain": [
       "<Figure size 720x360 with 1 Axes>"
      ]
     },
     "metadata": {
      "needs_background": "light"
     },
     "output_type": "display_data"
    }
   ],
   "source": [
    "import matplotlib.pyplot as plt \n",
    "\n",
    "for data_name, (mean_score, se_score) in mean_minutelevel_importance_score.items():\n",
    "    plt.figure(figsize=(10, 5))\n",
    "\n",
    "    plt.bar(feature_names[data_name], mean_score, yerr=se_score)\n",
    "    plt.tight_layout()\n",
    "    plt.xticks(rotation=40, ha=\"right\")\n",
    "    plt.title(f'Feature Importance {feature_names_short[data_name]}')\n",
    "    plt.savefig(f\"../visualizations/feature_importance_{data_name}.pdf\")\n",
    "    plt.show()"
   ]
  },
  {
   "cell_type": "markdown",
   "metadata": {},
   "source": [
    "These results are obtained with permutation importance, with metric the accuracy.\n",
    "\n",
    "\n",
    "From these results, a few key takeways can be made:\n",
    "- In the ECG classifier, the ratios between the frequencies (either low/high or very low/high) appear to be the most discriminant features; however, the frequencies themselves do not appear to help as much, while the rest is somewhat used.\n",
    "- For the ST feature, only the average and the slope fitted are used by the classifier: this is somewhat in line with the results from the correltion, even though the standard deviation appeared to be more discriminanting.\n",
    "\n",
    "A work of \"finding\" somewhat similar results in literature would be interesting, if possible.\n"
   ]
  },
  {
   "cell_type": "markdown",
   "metadata": {},
   "source": [
    "## Fusion-level Features"
   ]
  },
  {
   "cell_type": "code",
   "execution_count": 15,
   "metadata": {},
   "outputs": [],
   "source": [
    "mean_sensotimelevel_importance_score = (\n",
    "        mean([score[1][1] for score in scores], axis=0),\n",
    "        std([score[1][1] for score in scores], axis=0) / sqrt(n_repeats),\n",
    "    )\n",
    "\n"
   ]
  },
  {
   "cell_type": "code",
   "execution_count": 16,
   "metadata": {},
   "outputs": [
    {
     "name": "stdout",
     "output_type": "stream",
     "text": [
      "[ 0  2  4  6  8 10 12 14 16 18]\n",
      "[ 1  3  5  7  9 11 13 15 17 19]\n"
     ]
    }
   ],
   "source": [
    "from numpy import arange\n",
    "ecg_time_idxs: ndarray = arange(0, 20, 2)\n",
    "st_time_idxs: ndarray = arange(1, 20, 2)\n",
    "# mean_sensotimelevel_importance_score\n",
    "print(ecg_time_idxs)\n",
    "print(st_time_idxs)"
   ]
  },
  {
   "cell_type": "code",
   "execution_count": 17,
   "metadata": {},
   "outputs": [],
   "source": [
    "df = DataFrame(\n",
    "    mean_sensotimelevel_importance_score, index=[\"Mean\", \"SRT\"]\n",
    ").T\n",
    "df['Sensor'] = df.apply(lambda x: 'ECG' if x.name % 2 == 0 else 'ST', axis=1)\n",
    "df['Time'] = df.apply(lambda x: x.name // 2, axis=1)"
   ]
  },
  {
   "cell_type": "code",
   "execution_count": 18,
   "metadata": {},
   "outputs": [
    {
     "data": {
      "text/plain": [
       "<AxesSubplot:xlabel='Time', ylabel='Mean'>"
      ]
     },
     "execution_count": 18,
     "metadata": {},
     "output_type": "execute_result"
    },
    {
     "data": {
      "image/png": "[encoded data removed]",
      "text/plain": [
       "<Figure size 432x288 with 1 Axes>"
      ]
     },
     "metadata": {
      "needs_background": "light"
     },
     "output_type": "display_data"
    }
   ],
   "source": [
    "from seaborn import barplot, heatmap\n",
    "\n",
    "barplot(data=df, hue='Sensor', y='Mean', x='Time')"
   ]
  },
  {
   "cell_type": "code",
   "execution_count": 21,
   "metadata": {},
   "outputs": [
    {
     "data": {
      "text/plain": [
       "(array([0.082, 0.024, 0.06 , 0.046, 0.08 , 0.034, 0.1  , 0.034, 0.05 ,\n",
       "        0.03 , 0.058, 0.044, 0.056, 0.016, 0.058, 0.018, 0.082, 0.038,\n",
       "        0.04 , 0.05 ]),\n",
       " array([0.00446318, 0.00277128, 0.00473286, 0.00358887, 0.004     ,\n",
       "        0.00380526, 0.0060663 , 0.00311127, 0.00404969, 0.00363318,\n",
       "        0.00295296, 0.00533667, 0.00375233, 0.0021166 , 0.00428019,\n",
       "        0.00152315, 0.00367696, 0.00388844, 0.00309839, 0.00384708]))"
      ]
     },
     "execution_count": 21,
     "metadata": {},
     "output_type": "execute_result"
    }
   ],
   "source": [
    "mean_sensotimelevel_importance_score"
   ]
  },
  {
   "cell_type": "code",
   "execution_count": 22,
   "metadata": {},
   "outputs": [],
   "source": [
    "mean_sensotimelevel_importance_score = dict(ECG_features=tuple(el[ecg_time_idxs] for el in mean_sensotimelevel_importance_score),\n",
    "                                             ST_features=tuple(el[st_time_idxs] for el in mean_sensotimelevel_importance_score))"
   ]
  },
  {
   "cell_type": "code",
   "execution_count": 39,
   "metadata": {},
   "outputs": [
    {
     "data": {
      "image/png": "[encoded data removed]",
      "text/plain": [
       "<Figure size 720x360 with 1 Axes>"
      ]
     },
     "metadata": {
      "needs_background": "light"
     },
     "output_type": "display_data"
    },
    {
     "data": {
      "image/png": "[encoded data removed]",
      "text/plain": [
       "<Figure size 720x360 with 1 Axes>"
      ]
     },
     "metadata": {
      "needs_background": "light"
     },
     "output_type": "display_data"
    }
   ],
   "source": [
    "import matplotlib.pyplot as plt\n",
    "for data_name, (mean_score, se_score) in mean_sensotimelevel_importance_score.items():\n",
    "    plt.figure(figsize=(10, 5))\n",
    "\n",
    "    x= arange(1,11)\n",
    "    plt.bar(x, mean_score, yerr=se_score)\n",
    "    plt.ylim(0, 0.11)\n",
    "    plt.tight_layout()\n",
    "    plt.xticks(x)\n",
    "    plt.xlabel(\"Time [min]\")\n",
    "    plt.ylabel('Feature Importance Score')\n",
    "    plt.title(f'Time Importance {feature_names_short[data_name]}')\n",
    "    plt.savefig(f\"../visualizations/time_importance_{data_name}.pdf\")\n",
    "    plt.show()"
   ]
  },
  {
   "cell_type": "code",
   "execution_count": 53,
   "metadata": {},
   "outputs": [
    {
     "data": {
      "image/png": "[encoded data removed]",
      "text/plain": [
       "<Figure size 720x72 with 2 Axes>"
      ]
     },
     "metadata": {
      "needs_background": "light"
     },
     "output_type": "display_data"
    }
   ],
   "source": [
    "from seaborn import heatmap\n",
    "df_to_save = DataFrame.from_dict(\n",
    "    {key: val[0] for key, val in mean_sensotimelevel_importance_score.items()}\n",
    ")\n",
    "df_to_save.index = arange(1, 11)\n",
    "df_to_save=df_to_save.T\n",
    "\n",
    "plt.figure(figsize=(10, 1))\n",
    "heatmap(df_to_save, \n",
    "        xticklabels=df_to_save.columns,\n",
    "        vmax=0.1, vmin=0, center=0.05,\n",
    "        cmap='coolwarm',\n",
    "        yticklabels=df_to_save.index, annot=True)\n",
    "plt.title(f\"Time Importance (per sensor)\")\n",
    "plt.xlabel('Time [min]')\n",
    "plt.ylabel('Sensor')\n",
    "plt.savefig(f'../visualizations/heatmap_sensotemporal_importance.pdf')\n",
    "plt.show()"
   ]
  },
  {
   "cell_type": "markdown",
   "metadata": {},
   "source": [
    "From the senso-temporal analysis, a few key takeways can be made:\n",
    "- The ECG sensor appears to be the most dominant out of the two, for the fusion model\n",
    "- There does not appear to be a \"the closer to the label, the better\" narrative: indeed, for the ST sensor, no pattern is present, while for the ECG it can be said that time between 10 and 6 minutes before the label are taken as more imporant by the classifier, even though by not a large margin.\n",
    "\n",
    "It should be noted that this outcome is not completely indicative of the facts described by the feature importanc: since the model's performance is extremely limited, they should be considered in this optic."
   ]
  }
 ],
 "metadata": {
  "kernelspec": {
   "display_name": "Python 3.10.4 ('stress')",
   "language": "python",
   "name": "python3"
  },
  "language_info": {
   "codemirror_mode": {
    "name": "ipython",
    "version": 3
   },
   "file_extension": ".py",
   "mimetype": "text/x-python",
   "name": "python",
   "nbconvert_exporter": "python",
   "pygments_lexer": "ipython3",
   "version": "3.10.4"
  },
  "orig_nbformat": 4,
  "vscode": {
   "interpreter": {
    "hash": "643980dca58626c9db13de6fa762274e0ff1919d6fc081f47feb3d972ff3a549"
   }
  }
 },
 "nbformat": 4,
 "nbformat_minor": 2
}
